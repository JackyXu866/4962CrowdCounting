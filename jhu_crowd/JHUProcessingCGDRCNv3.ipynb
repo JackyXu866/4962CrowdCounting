{
  "nbformat": 4,
  "nbformat_minor": 0,
  "metadata": {
    "colab": {
      "provenance": []
    },
    "kernelspec": {
      "name": "python3",
      "display_name": "Python 3"
    },
    "language_info": {
      "name": "python"
    },
    "gpuClass": "standard",
    "accelerator": "GPU",
    "widgets": {
      "application/vnd.jupyter.widget-state+json": {
        "eb747ef206164033918ae863b5135fb1": {
          "model_module": "@jupyter-widgets/controls",
          "model_name": "HBoxModel",
          "model_module_version": "1.5.0",
          "state": {
            "_dom_classes": [],
            "_model_module": "@jupyter-widgets/controls",
            "_model_module_version": "1.5.0",
            "_model_name": "HBoxModel",
            "_view_count": null,
            "_view_module": "@jupyter-widgets/controls",
            "_view_module_version": "1.5.0",
            "_view_name": "HBoxView",
            "box_style": "",
            "children": [
              "IPY_MODEL_33f1680758bd46c9a13299419f8204ef",
              "IPY_MODEL_726bd946bd024948b1a71eb4c9ff2883",
              "IPY_MODEL_3509ff9cd5a248e4bd776fe789cf2a1f"
            ],
            "layout": "IPY_MODEL_698dcfe656fd48bb873d621c2bccd86b"
          }
        },
        "33f1680758bd46c9a13299419f8204ef": {
          "model_module": "@jupyter-widgets/controls",
          "model_name": "HTMLModel",
          "model_module_version": "1.5.0",
          "state": {
            "_dom_classes": [],
            "_model_module": "@jupyter-widgets/controls",
            "_model_module_version": "1.5.0",
            "_model_name": "HTMLModel",
            "_view_count": null,
            "_view_module": "@jupyter-widgets/controls",
            "_view_module_version": "1.5.0",
            "_view_name": "HTMLView",
            "description": "",
            "description_tooltip": null,
            "layout": "IPY_MODEL_01610fb0107447d8bf56612348ac3817",
            "placeholder": "​",
            "style": "IPY_MODEL_1d5694c7582b49af9d798f936d57a06e",
            "value": "100%"
          }
        },
        "726bd946bd024948b1a71eb4c9ff2883": {
          "model_module": "@jupyter-widgets/controls",
          "model_name": "FloatProgressModel",
          "model_module_version": "1.5.0",
          "state": {
            "_dom_classes": [],
            "_model_module": "@jupyter-widgets/controls",
            "_model_module_version": "1.5.0",
            "_model_name": "FloatProgressModel",
            "_view_count": null,
            "_view_module": "@jupyter-widgets/controls",
            "_view_module_version": "1.5.0",
            "_view_name": "ProgressView",
            "bar_style": "success",
            "description": "",
            "description_tooltip": null,
            "layout": "IPY_MODEL_d722a88bf9a04d1ea9a5babebe5ca727",
            "max": 553433881,
            "min": 0,
            "orientation": "horizontal",
            "style": "IPY_MODEL_f0042b1c68024859a2d243b8b882fa55",
            "value": 553433881
          }
        },
        "3509ff9cd5a248e4bd776fe789cf2a1f": {
          "model_module": "@jupyter-widgets/controls",
          "model_name": "HTMLModel",
          "model_module_version": "1.5.0",
          "state": {
            "_dom_classes": [],
            "_model_module": "@jupyter-widgets/controls",
            "_model_module_version": "1.5.0",
            "_model_name": "HTMLModel",
            "_view_count": null,
            "_view_module": "@jupyter-widgets/controls",
            "_view_module_version": "1.5.0",
            "_view_name": "HTMLView",
            "description": "",
            "description_tooltip": null,
            "layout": "IPY_MODEL_3d4283bbb8ac4d108ef5cfb770e9a687",
            "placeholder": "​",
            "style": "IPY_MODEL_8b08a34d2cfd47d99918898786f396da",
            "value": " 528M/528M [00:02&lt;00:00, 242MB/s]"
          }
        },
        "698dcfe656fd48bb873d621c2bccd86b": {
          "model_module": "@jupyter-widgets/base",
          "model_name": "LayoutModel",
          "model_module_version": "1.2.0",
          "state": {
            "_model_module": "@jupyter-widgets/base",
            "_model_module_version": "1.2.0",
            "_model_name": "LayoutModel",
            "_view_count": null,
            "_view_module": "@jupyter-widgets/base",
            "_view_module_version": "1.2.0",
            "_view_name": "LayoutView",
            "align_content": null,
            "align_items": null,
            "align_self": null,
            "border": null,
            "bottom": null,
            "display": null,
            "flex": null,
            "flex_flow": null,
            "grid_area": null,
            "grid_auto_columns": null,
            "grid_auto_flow": null,
            "grid_auto_rows": null,
            "grid_column": null,
            "grid_gap": null,
            "grid_row": null,
            "grid_template_areas": null,
            "grid_template_columns": null,
            "grid_template_rows": null,
            "height": null,
            "justify_content": null,
            "justify_items": null,
            "left": null,
            "margin": null,
            "max_height": null,
            "max_width": null,
            "min_height": null,
            "min_width": null,
            "object_fit": null,
            "object_position": null,
            "order": null,
            "overflow": null,
            "overflow_x": null,
            "overflow_y": null,
            "padding": null,
            "right": null,
            "top": null,
            "visibility": null,
            "width": null
          }
        },
        "01610fb0107447d8bf56612348ac3817": {
          "model_module": "@jupyter-widgets/base",
          "model_name": "LayoutModel",
          "model_module_version": "1.2.0",
          "state": {
            "_model_module": "@jupyter-widgets/base",
            "_model_module_version": "1.2.0",
            "_model_name": "LayoutModel",
            "_view_count": null,
            "_view_module": "@jupyter-widgets/base",
            "_view_module_version": "1.2.0",
            "_view_name": "LayoutView",
            "align_content": null,
            "align_items": null,
            "align_self": null,
            "border": null,
            "bottom": null,
            "display": null,
            "flex": null,
            "flex_flow": null,
            "grid_area": null,
            "grid_auto_columns": null,
            "grid_auto_flow": null,
            "grid_auto_rows": null,
            "grid_column": null,
            "grid_gap": null,
            "grid_row": null,
            "grid_template_areas": null,
            "grid_template_columns": null,
            "grid_template_rows": null,
            "height": null,
            "justify_content": null,
            "justify_items": null,
            "left": null,
            "margin": null,
            "max_height": null,
            "max_width": null,
            "min_height": null,
            "min_width": null,
            "object_fit": null,
            "object_position": null,
            "order": null,
            "overflow": null,
            "overflow_x": null,
            "overflow_y": null,
            "padding": null,
            "right": null,
            "top": null,
            "visibility": null,
            "width": null
          }
        },
        "1d5694c7582b49af9d798f936d57a06e": {
          "model_module": "@jupyter-widgets/controls",
          "model_name": "DescriptionStyleModel",
          "model_module_version": "1.5.0",
          "state": {
            "_model_module": "@jupyter-widgets/controls",
            "_model_module_version": "1.5.0",
            "_model_name": "DescriptionStyleModel",
            "_view_count": null,
            "_view_module": "@jupyter-widgets/base",
            "_view_module_version": "1.2.0",
            "_view_name": "StyleView",
            "description_width": ""
          }
        },
        "d722a88bf9a04d1ea9a5babebe5ca727": {
          "model_module": "@jupyter-widgets/base",
          "model_name": "LayoutModel",
          "model_module_version": "1.2.0",
          "state": {
            "_model_module": "@jupyter-widgets/base",
            "_model_module_version": "1.2.0",
            "_model_name": "LayoutModel",
            "_view_count": null,
            "_view_module": "@jupyter-widgets/base",
            "_view_module_version": "1.2.0",
            "_view_name": "LayoutView",
            "align_content": null,
            "align_items": null,
            "align_self": null,
            "border": null,
            "bottom": null,
            "display": null,
            "flex": null,
            "flex_flow": null,
            "grid_area": null,
            "grid_auto_columns": null,
            "grid_auto_flow": null,
            "grid_auto_rows": null,
            "grid_column": null,
            "grid_gap": null,
            "grid_row": null,
            "grid_template_areas": null,
            "grid_template_columns": null,
            "grid_template_rows": null,
            "height": null,
            "justify_content": null,
            "justify_items": null,
            "left": null,
            "margin": null,
            "max_height": null,
            "max_width": null,
            "min_height": null,
            "min_width": null,
            "object_fit": null,
            "object_position": null,
            "order": null,
            "overflow": null,
            "overflow_x": null,
            "overflow_y": null,
            "padding": null,
            "right": null,
            "top": null,
            "visibility": null,
            "width": null
          }
        },
        "f0042b1c68024859a2d243b8b882fa55": {
          "model_module": "@jupyter-widgets/controls",
          "model_name": "ProgressStyleModel",
          "model_module_version": "1.5.0",
          "state": {
            "_model_module": "@jupyter-widgets/controls",
            "_model_module_version": "1.5.0",
            "_model_name": "ProgressStyleModel",
            "_view_count": null,
            "_view_module": "@jupyter-widgets/base",
            "_view_module_version": "1.2.0",
            "_view_name": "StyleView",
            "bar_color": null,
            "description_width": ""
          }
        },
        "3d4283bbb8ac4d108ef5cfb770e9a687": {
          "model_module": "@jupyter-widgets/base",
          "model_name": "LayoutModel",
          "model_module_version": "1.2.0",
          "state": {
            "_model_module": "@jupyter-widgets/base",
            "_model_module_version": "1.2.0",
            "_model_name": "LayoutModel",
            "_view_count": null,
            "_view_module": "@jupyter-widgets/base",
            "_view_module_version": "1.2.0",
            "_view_name": "LayoutView",
            "align_content": null,
            "align_items": null,
            "align_self": null,
            "border": null,
            "bottom": null,
            "display": null,
            "flex": null,
            "flex_flow": null,
            "grid_area": null,
            "grid_auto_columns": null,
            "grid_auto_flow": null,
            "grid_auto_rows": null,
            "grid_column": null,
            "grid_gap": null,
            "grid_row": null,
            "grid_template_areas": null,
            "grid_template_columns": null,
            "grid_template_rows": null,
            "height": null,
            "justify_content": null,
            "justify_items": null,
            "left": null,
            "margin": null,
            "max_height": null,
            "max_width": null,
            "min_height": null,
            "min_width": null,
            "object_fit": null,
            "object_position": null,
            "order": null,
            "overflow": null,
            "overflow_x": null,
            "overflow_y": null,
            "padding": null,
            "right": null,
            "top": null,
            "visibility": null,
            "width": null
          }
        },
        "8b08a34d2cfd47d99918898786f396da": {
          "model_module": "@jupyter-widgets/controls",
          "model_name": "DescriptionStyleModel",
          "model_module_version": "1.5.0",
          "state": {
            "_model_module": "@jupyter-widgets/controls",
            "_model_module_version": "1.5.0",
            "_model_name": "DescriptionStyleModel",
            "_view_count": null,
            "_view_module": "@jupyter-widgets/base",
            "_view_module_version": "1.2.0",
            "_view_name": "StyleView",
            "description_width": ""
          }
        },
        "8e54f8bad85c42c793a2d34541f571c9": {
          "model_module": "@jupyter-widgets/controls",
          "model_name": "HBoxModel",
          "model_module_version": "1.5.0",
          "state": {
            "_dom_classes": [],
            "_model_module": "@jupyter-widgets/controls",
            "_model_module_version": "1.5.0",
            "_model_name": "HBoxModel",
            "_view_count": null,
            "_view_module": "@jupyter-widgets/controls",
            "_view_module_version": "1.5.0",
            "_view_name": "HBoxView",
            "box_style": "",
            "children": [
              "IPY_MODEL_794e64470d8a471698d55a37a50e9f18",
              "IPY_MODEL_8adf90d5742b469f91656e7353a429c8",
              "IPY_MODEL_b8af57c81175482b9bcc1bea310fc104"
            ],
            "layout": "IPY_MODEL_603fb9d6b89b4b4e96b1c62e3df04427"
          }
        },
        "794e64470d8a471698d55a37a50e9f18": {
          "model_module": "@jupyter-widgets/controls",
          "model_name": "HTMLModel",
          "model_module_version": "1.5.0",
          "state": {
            "_dom_classes": [],
            "_model_module": "@jupyter-widgets/controls",
            "_model_module_version": "1.5.0",
            "_model_name": "HTMLModel",
            "_view_count": null,
            "_view_module": "@jupyter-widgets/controls",
            "_view_module_version": "1.5.0",
            "_view_name": "HTMLView",
            "description": "",
            "description_tooltip": null,
            "layout": "IPY_MODEL_bc6b2e8b26154218b1a616ae53b44cb0",
            "placeholder": "​",
            "style": "IPY_MODEL_46e7e3578db54ff6824bea2064c29b08",
            "value": "val_mae=3.125e+22 val_mse=inf loss=-9.387e+05: 100%"
          }
        },
        "8adf90d5742b469f91656e7353a429c8": {
          "model_module": "@jupyter-widgets/controls",
          "model_name": "FloatProgressModel",
          "model_module_version": "1.5.0",
          "state": {
            "_dom_classes": [],
            "_model_module": "@jupyter-widgets/controls",
            "_model_module_version": "1.5.0",
            "_model_name": "FloatProgressModel",
            "_view_count": null,
            "_view_module": "@jupyter-widgets/controls",
            "_view_module_version": "1.5.0",
            "_view_name": "ProgressView",
            "bar_style": "success",
            "description": "",
            "description_tooltip": null,
            "layout": "IPY_MODEL_66e0f4b194b64dff93987769dffcca01",
            "max": 50,
            "min": 0,
            "orientation": "horizontal",
            "style": "IPY_MODEL_b5a9b015624b460f9741aad51f1ae884",
            "value": 50
          }
        },
        "b8af57c81175482b9bcc1bea310fc104": {
          "model_module": "@jupyter-widgets/controls",
          "model_name": "HTMLModel",
          "model_module_version": "1.5.0",
          "state": {
            "_dom_classes": [],
            "_model_module": "@jupyter-widgets/controls",
            "_model_module_version": "1.5.0",
            "_model_name": "HTMLModel",
            "_view_count": null,
            "_view_module": "@jupyter-widgets/controls",
            "_view_module_version": "1.5.0",
            "_view_name": "HTMLView",
            "description": "",
            "description_tooltip": null,
            "layout": "IPY_MODEL_f11e771280db4fdd947d7620a0011d53",
            "placeholder": "​",
            "style": "IPY_MODEL_af3c2093ba084addb25ccd33f928f1da",
            "value": " 50/50 [31:32&lt;00:00, 37.64s/it]"
          }
        },
        "603fb9d6b89b4b4e96b1c62e3df04427": {
          "model_module": "@jupyter-widgets/base",
          "model_name": "LayoutModel",
          "model_module_version": "1.2.0",
          "state": {
            "_model_module": "@jupyter-widgets/base",
            "_model_module_version": "1.2.0",
            "_model_name": "LayoutModel",
            "_view_count": null,
            "_view_module": "@jupyter-widgets/base",
            "_view_module_version": "1.2.0",
            "_view_name": "LayoutView",
            "align_content": null,
            "align_items": null,
            "align_self": null,
            "border": null,
            "bottom": null,
            "display": null,
            "flex": null,
            "flex_flow": null,
            "grid_area": null,
            "grid_auto_columns": null,
            "grid_auto_flow": null,
            "grid_auto_rows": null,
            "grid_column": null,
            "grid_gap": null,
            "grid_row": null,
            "grid_template_areas": null,
            "grid_template_columns": null,
            "grid_template_rows": null,
            "height": null,
            "justify_content": null,
            "justify_items": null,
            "left": null,
            "margin": null,
            "max_height": null,
            "max_width": null,
            "min_height": null,
            "min_width": null,
            "object_fit": null,
            "object_position": null,
            "order": null,
            "overflow": null,
            "overflow_x": null,
            "overflow_y": null,
            "padding": null,
            "right": null,
            "top": null,
            "visibility": null,
            "width": null
          }
        },
        "bc6b2e8b26154218b1a616ae53b44cb0": {
          "model_module": "@jupyter-widgets/base",
          "model_name": "LayoutModel",
          "model_module_version": "1.2.0",
          "state": {
            "_model_module": "@jupyter-widgets/base",
            "_model_module_version": "1.2.0",
            "_model_name": "LayoutModel",
            "_view_count": null,
            "_view_module": "@jupyter-widgets/base",
            "_view_module_version": "1.2.0",
            "_view_name": "LayoutView",
            "align_content": null,
            "align_items": null,
            "align_self": null,
            "border": null,
            "bottom": null,
            "display": null,
            "flex": null,
            "flex_flow": null,
            "grid_area": null,
            "grid_auto_columns": null,
            "grid_auto_flow": null,
            "grid_auto_rows": null,
            "grid_column": null,
            "grid_gap": null,
            "grid_row": null,
            "grid_template_areas": null,
            "grid_template_columns": null,
            "grid_template_rows": null,
            "height": null,
            "justify_content": null,
            "justify_items": null,
            "left": null,
            "margin": null,
            "max_height": null,
            "max_width": null,
            "min_height": null,
            "min_width": null,
            "object_fit": null,
            "object_position": null,
            "order": null,
            "overflow": null,
            "overflow_x": null,
            "overflow_y": null,
            "padding": null,
            "right": null,
            "top": null,
            "visibility": null,
            "width": null
          }
        },
        "46e7e3578db54ff6824bea2064c29b08": {
          "model_module": "@jupyter-widgets/controls",
          "model_name": "DescriptionStyleModel",
          "model_module_version": "1.5.0",
          "state": {
            "_model_module": "@jupyter-widgets/controls",
            "_model_module_version": "1.5.0",
            "_model_name": "DescriptionStyleModel",
            "_view_count": null,
            "_view_module": "@jupyter-widgets/base",
            "_view_module_version": "1.2.0",
            "_view_name": "StyleView",
            "description_width": ""
          }
        },
        "66e0f4b194b64dff93987769dffcca01": {
          "model_module": "@jupyter-widgets/base",
          "model_name": "LayoutModel",
          "model_module_version": "1.2.0",
          "state": {
            "_model_module": "@jupyter-widgets/base",
            "_model_module_version": "1.2.0",
            "_model_name": "LayoutModel",
            "_view_count": null,
            "_view_module": "@jupyter-widgets/base",
            "_view_module_version": "1.2.0",
            "_view_name": "LayoutView",
            "align_content": null,
            "align_items": null,
            "align_self": null,
            "border": null,
            "bottom": null,
            "display": null,
            "flex": null,
            "flex_flow": null,
            "grid_area": null,
            "grid_auto_columns": null,
            "grid_auto_flow": null,
            "grid_auto_rows": null,
            "grid_column": null,
            "grid_gap": null,
            "grid_row": null,
            "grid_template_areas": null,
            "grid_template_columns": null,
            "grid_template_rows": null,
            "height": null,
            "justify_content": null,
            "justify_items": null,
            "left": null,
            "margin": null,
            "max_height": null,
            "max_width": null,
            "min_height": null,
            "min_width": null,
            "object_fit": null,
            "object_position": null,
            "order": null,
            "overflow": null,
            "overflow_x": null,
            "overflow_y": null,
            "padding": null,
            "right": null,
            "top": null,
            "visibility": null,
            "width": null
          }
        },
        "b5a9b015624b460f9741aad51f1ae884": {
          "model_module": "@jupyter-widgets/controls",
          "model_name": "ProgressStyleModel",
          "model_module_version": "1.5.0",
          "state": {
            "_model_module": "@jupyter-widgets/controls",
            "_model_module_version": "1.5.0",
            "_model_name": "ProgressStyleModel",
            "_view_count": null,
            "_view_module": "@jupyter-widgets/base",
            "_view_module_version": "1.2.0",
            "_view_name": "StyleView",
            "bar_color": null,
            "description_width": ""
          }
        },
        "f11e771280db4fdd947d7620a0011d53": {
          "model_module": "@jupyter-widgets/base",
          "model_name": "LayoutModel",
          "model_module_version": "1.2.0",
          "state": {
            "_model_module": "@jupyter-widgets/base",
            "_model_module_version": "1.2.0",
            "_model_name": "LayoutModel",
            "_view_count": null,
            "_view_module": "@jupyter-widgets/base",
            "_view_module_version": "1.2.0",
            "_view_name": "LayoutView",
            "align_content": null,
            "align_items": null,
            "align_self": null,
            "border": null,
            "bottom": null,
            "display": null,
            "flex": null,
            "flex_flow": null,
            "grid_area": null,
            "grid_auto_columns": null,
            "grid_auto_flow": null,
            "grid_auto_rows": null,
            "grid_column": null,
            "grid_gap": null,
            "grid_row": null,
            "grid_template_areas": null,
            "grid_template_columns": null,
            "grid_template_rows": null,
            "height": null,
            "justify_content": null,
            "justify_items": null,
            "left": null,
            "margin": null,
            "max_height": null,
            "max_width": null,
            "min_height": null,
            "min_width": null,
            "object_fit": null,
            "object_position": null,
            "order": null,
            "overflow": null,
            "overflow_x": null,
            "overflow_y": null,
            "padding": null,
            "right": null,
            "top": null,
            "visibility": null,
            "width": null
          }
        },
        "af3c2093ba084addb25ccd33f928f1da": {
          "model_module": "@jupyter-widgets/controls",
          "model_name": "DescriptionStyleModel",
          "model_module_version": "1.5.0",
          "state": {
            "_model_module": "@jupyter-widgets/controls",
            "_model_module_version": "1.5.0",
            "_model_name": "DescriptionStyleModel",
            "_view_count": null,
            "_view_module": "@jupyter-widgets/base",
            "_view_module_version": "1.2.0",
            "_view_name": "StyleView",
            "description_width": ""
          }
        }
      }
    }
  },
  "cells": [
    {
      "cell_type": "markdown",
      "source": [
        "### JHU-CROWD++ Processing, Dataset, and Model\n",
        "\n",
        "Dataset Source: http://www.crowd-counting.com/\n",
        "\n",
        "Note: in this ground-truth files, there appear to be points for the heads that are not inside the image. For the purposes of this project, such points with coordinates exceeding the images' borders will be excluded from the ground truths. This ensures we are training our model on information fully present in the image."
      ],
      "metadata": {
        "id": "aoCGoesaZ5t3"
      }
    },
    {
      "cell_type": "code",
      "source": [
        "#!pip freeze > requirements.txt"
      ],
      "metadata": {
        "id": "t_c_qL3wYuP_"
      },
      "execution_count": 1,
      "outputs": []
    },
    {
      "cell_type": "code",
      "execution_count": 2,
      "metadata": {
        "id": "m4_vnPIM79Ld",
        "colab": {
          "base_uri": "https://localhost:8080/"
        },
        "outputId": "91cc2184-3360-4bd7-b62b-04518894b8cc"
      },
      "outputs": [
        {
          "output_type": "stream",
          "name": "stdout",
          "text": [
            "Looking in indexes: https://pypi.org/simple, https://us-python.pkg.dev/colab-wheels/public/simple/\n",
            "Requirement already satisfied: imbalanced-learn in /usr/local/lib/python3.8/dist-packages (0.8.1)\n",
            "Requirement already satisfied: scipy>=0.19.1 in /usr/local/lib/python3.8/dist-packages (from imbalanced-learn) (1.7.3)\n",
            "Requirement already satisfied: scikit-learn>=0.24 in /usr/local/lib/python3.8/dist-packages (from imbalanced-learn) (1.0.2)\n",
            "Requirement already satisfied: numpy>=1.13.3 in /usr/local/lib/python3.8/dist-packages (from imbalanced-learn) (1.21.6)\n",
            "Requirement already satisfied: joblib>=0.11 in /usr/local/lib/python3.8/dist-packages (from imbalanced-learn) (1.2.0)\n",
            "Requirement already satisfied: threadpoolctl>=2.0.0 in /usr/local/lib/python3.8/dist-packages (from scikit-learn>=0.24->imbalanced-learn) (3.1.0)\n",
            "Looking in indexes: https://pypi.org/simple, https://us-python.pkg.dev/colab-wheels/public/simple/\n",
            "Requirement already satisfied: graphviz in /usr/local/lib/python3.8/dist-packages (0.10.1)\n",
            "Looking in indexes: https://pypi.org/simple, https://us-python.pkg.dev/colab-wheels/public/simple/\n",
            "Requirement already satisfied: tensorflow-probability in /usr/local/lib/python3.8/dist-packages (0.17.0)\n",
            "Requirement already satisfied: decorator in /usr/local/lib/python3.8/dist-packages (from tensorflow-probability) (4.4.2)\n",
            "Requirement already satisfied: numpy>=1.13.3 in /usr/local/lib/python3.8/dist-packages (from tensorflow-probability) (1.21.6)\n",
            "Requirement already satisfied: cloudpickle>=1.3 in /usr/local/lib/python3.8/dist-packages (from tensorflow-probability) (1.5.0)\n",
            "Requirement already satisfied: dm-tree in /usr/local/lib/python3.8/dist-packages (from tensorflow-probability) (0.1.7)\n",
            "Requirement already satisfied: gast>=0.3.2 in /usr/local/lib/python3.8/dist-packages (from tensorflow-probability) (0.4.0)\n",
            "Requirement already satisfied: six>=1.10.0 in /usr/local/lib/python3.8/dist-packages (from tensorflow-probability) (1.15.0)\n",
            "Requirement already satisfied: absl-py in /usr/local/lib/python3.8/dist-packages (from tensorflow-probability) (1.3.0)\n",
            "Looking in indexes: https://pypi.org/simple, https://us-python.pkg.dev/colab-wheels/public/simple/\n",
            "Requirement already satisfied: imageio in /usr/local/lib/python3.8/dist-packages (2.9.0)\n",
            "Requirement already satisfied: numpy in /usr/local/lib/python3.8/dist-packages (from imageio) (1.21.6)\n",
            "Requirement already satisfied: pillow in /usr/local/lib/python3.8/dist-packages (from imageio) (7.1.2)\n",
            "Looking in indexes: https://pypi.org/simple, https://us-python.pkg.dev/colab-wheels/public/simple/\n",
            "Collecting git+https://github.com/tensorflow/docs\n",
            "  Cloning https://github.com/tensorflow/docs to /tmp/pip-req-build-3er2yfge\n",
            "  Running command git clone -q https://github.com/tensorflow/docs /tmp/pip-req-build-3er2yfge\n",
            "Requirement already satisfied: astor in /usr/local/lib/python3.8/dist-packages (from tensorflow-docs==0.0.0.dev0) (0.8.1)\n",
            "Requirement already satisfied: absl-py in /usr/local/lib/python3.8/dist-packages (from tensorflow-docs==0.0.0.dev0) (1.3.0)\n",
            "Requirement already satisfied: jinja2 in /usr/local/lib/python3.8/dist-packages (from tensorflow-docs==0.0.0.dev0) (2.11.3)\n",
            "Requirement already satisfied: nbformat in /usr/local/lib/python3.8/dist-packages (from tensorflow-docs==0.0.0.dev0) (5.7.0)\n",
            "Requirement already satisfied: protobuf<3.20,>=3.12.0 in /usr/local/lib/python3.8/dist-packages (from tensorflow-docs==0.0.0.dev0) (3.19.6)\n",
            "Requirement already satisfied: pyyaml in /usr/local/lib/python3.8/dist-packages (from tensorflow-docs==0.0.0.dev0) (6.0)\n",
            "Requirement already satisfied: MarkupSafe>=0.23 in /usr/local/lib/python3.8/dist-packages (from jinja2->tensorflow-docs==0.0.0.dev0) (2.0.1)\n",
            "Requirement already satisfied: jsonschema>=2.6 in /usr/local/lib/python3.8/dist-packages (from nbformat->tensorflow-docs==0.0.0.dev0) (4.3.3)\n",
            "Requirement already satisfied: traitlets>=5.1 in /usr/local/lib/python3.8/dist-packages (from nbformat->tensorflow-docs==0.0.0.dev0) (5.6.0)\n",
            "Requirement already satisfied: jupyter-core in /usr/local/lib/python3.8/dist-packages (from nbformat->tensorflow-docs==0.0.0.dev0) (5.1.0)\n",
            "Requirement already satisfied: fastjsonschema in /usr/local/lib/python3.8/dist-packages (from nbformat->tensorflow-docs==0.0.0.dev0) (2.16.2)\n",
            "Requirement already satisfied: importlib-resources>=1.4.0 in /usr/local/lib/python3.8/dist-packages (from jsonschema>=2.6->nbformat->tensorflow-docs==0.0.0.dev0) (5.10.0)\n",
            "Requirement already satisfied: attrs>=17.4.0 in /usr/local/lib/python3.8/dist-packages (from jsonschema>=2.6->nbformat->tensorflow-docs==0.0.0.dev0) (22.1.0)\n",
            "Requirement already satisfied: pyrsistent!=0.17.0,!=0.17.1,!=0.17.2,>=0.14.0 in /usr/local/lib/python3.8/dist-packages (from jsonschema>=2.6->nbformat->tensorflow-docs==0.0.0.dev0) (0.19.2)\n",
            "Requirement already satisfied: zipp>=3.1.0 in /usr/local/lib/python3.8/dist-packages (from importlib-resources>=1.4.0->jsonschema>=2.6->nbformat->tensorflow-docs==0.0.0.dev0) (3.11.0)\n",
            "Requirement already satisfied: platformdirs>=2.5 in /usr/local/lib/python3.8/dist-packages (from jupyter-core->nbformat->tensorflow-docs==0.0.0.dev0) (2.5.4)\n",
            "Building wheels for collected packages: tensorflow-docs\n",
            "  Building wheel for tensorflow-docs (setup.py) ... \u001b[?25l\u001b[?25hdone\n",
            "  Created wheel for tensorflow-docs: filename=tensorflow_docs-0.0.0.dev0-py3-none-any.whl size=184468 sha256=b06dab74adb06d5ac51945edabdc0229c2182aac2578ad8ae95393504ad0330b\n",
            "  Stored in directory: /tmp/pip-ephem-wheel-cache-h1oz3xsn/wheels/3b/ee/a2/ab4d36a9a4af495bcb936f3e849d4b497b65fa40548a68d6c3\n",
            "Successfully built tensorflow-docs\n",
            "Installing collected packages: tensorflow-docs\n",
            "Successfully installed tensorflow-docs-0.0.0.dev0\n"
          ]
        }
      ],
      "source": [
        "!pip install imbalanced-learn\n",
        "!pip install graphviz\n",
        "!pip install tensorflow-probability\n",
        "\n",
        "# to generate gifs\n",
        "!pip install imageio\n",
        "!pip install git+https://github.com/tensorflow/docs"
      ]
    },
    {
      "cell_type": "code",
      "source": [
        "# import required libraries\n",
        "import pandas as pd\n",
        "import matplotlib.pyplot as plt\n",
        "import numpy as np\n",
        "import random\n",
        "\n",
        "import torch\n",
        "from torch.utils.data import Dataset, DataLoader\n",
        "from torchvision import transforms, utils\n",
        "\n",
        "import IPython\n",
        "import IPython.display\n",
        "\n",
        "import warnings\n",
        "\n",
        "warnings.filterwarnings(\"ignore\")\n",
        "\n",
        "import os\n",
        "import zipfile\n",
        "\n",
        "import PIL\n",
        "from PIL import Image\n",
        "\n",
        "import cv2\n",
        "\n",
        "import numbers\n",
        "import collections"
      ],
      "metadata": {
        "id": "OnOL68c_L2Hh"
      },
      "execution_count": 3,
      "outputs": []
    },
    {
      "cell_type": "markdown",
      "source": [
        "### JHU-CROWD++ Dataset"
      ],
      "metadata": {
        "id": "hKiRJF5lUES-"
      }
    },
    {
      "cell_type": "code",
      "source": [
        "# Load the data from Google Drive\n",
        "# Data sourced from\n",
        "# http://www.crowd-counting.com/\n",
        "from google.colab import drive\n",
        "drive.mount('/content/drive')"
      ],
      "metadata": {
        "id": "-P0b0cdzgE6a",
        "colab": {
          "base_uri": "https://localhost:8080/"
        },
        "outputId": "d4c26cbd-cd8d-4657-83d4-e8abdfdc979f"
      },
      "execution_count": 4,
      "outputs": [
        {
          "output_type": "stream",
          "name": "stdout",
          "text": [
            "Mounted at /content/drive\n"
          ]
        }
      ]
    },
    {
      "cell_type": "code",
      "source": [
        "with zipfile.ZipFile('/content/drive/MyDrive/jhu_crowd_v2.0.zip', 'r') as zip_ref:\n",
        "    zip_ref.extractall('/content/jhu_crowd')"
      ],
      "metadata": {
        "id": "kK-Q31WXevYY"
      },
      "execution_count": 5,
      "outputs": []
    },
    {
      "cell_type": "code",
      "source": [
        "base_dir = '/content/jhu_crowd/jhu_crowd_v2.0'\n",
        "train_dir = os.path.join(base_dir, 'train')\n",
        "val_dir = os.path.join(base_dir, 'val')\n",
        "test_dir = os.path.join(base_dir, 'test')"
      ],
      "metadata": {
        "id": "eji3wmbu-B6d"
      },
      "execution_count": 6,
      "outputs": []
    },
    {
      "cell_type": "code",
      "source": [
        "os.listdir(train_dir)"
      ],
      "metadata": {
        "id": "DsnLCgsy-L-Y",
        "colab": {
          "base_uri": "https://localhost:8080/"
        },
        "outputId": "618044af-9772-4b96-e408-1b83af946b4c"
      },
      "execution_count": 7,
      "outputs": [
        {
          "output_type": "execute_result",
          "data": {
            "text/plain": [
              "['images', 'image_labels.txt', 'gt']"
            ]
          },
          "metadata": {},
          "execution_count": 7
        }
      ]
    },
    {
      "cell_type": "code",
      "source": [
        "# Custom transforms implementations credited to\n",
        "# https://github.com/mlagunas/pytorch-nptransforms/blob/master/np_transforms.py"
      ],
      "metadata": {
        "id": "a-XGgkF_Vgu0"
      },
      "execution_count": 8,
      "outputs": []
    },
    {
      "cell_type": "code",
      "source": [
        "def _is_numpy_image(img):\n",
        "    return isinstance(img, np.ndarray)"
      ],
      "metadata": {
        "id": "e5ECrsI_rj4z"
      },
      "execution_count": 9,
      "outputs": []
    },
    {
      "cell_type": "code",
      "source": [
        "def crop(pic, i, j, h, w):\n",
        "    if not _is_numpy_image(pic):\n",
        "        raise TypeError('img should be Numpy Image. Got {}'.format(type(pic)))\n",
        "\n",
        "    return pic[i:i + h, j:j + w, :]"
      ],
      "metadata": {
        "id": "YsqorSxatBg6"
      },
      "execution_count": 10,
      "outputs": []
    },
    {
      "cell_type": "code",
      "source": [
        "from torchvision.io import read_image, ImageReadMode\n",
        "import torchvision.transforms.functional as TF"
      ],
      "metadata": {
        "id": "SKsXkjpcNXOa"
      },
      "execution_count": 15,
      "outputs": []
    },
    {
      "cell_type": "code",
      "source": [
        "# Dataset object for this data\n",
        "class JHUCrowdDataset(Dataset):\n",
        "    def __init__(self, gt_dir, img_dir, transform=None, target_transform=None):\n",
        "        self.gt_dir = gt_dir\n",
        "        self.img_dir = img_dir\n",
        "        self.transform = transform\n",
        "        self.target_transform = target_transform\n",
        "\n",
        "    def __len__(self):\n",
        "        return len(os.listdir(self.img_dir))\n",
        "\n",
        "    def __getitem__(self, idx):\n",
        "        # Debug: print gt file name (matches image file name)\n",
        "        # print(sorted(os.listdir(self.gt_dir))[idx])\n",
        "        gt_path = os.path.join(self.gt_dir, sorted(os.listdir(self.gt_dir))[idx])\n",
        "        img_path = os.path.join(self.img_dir, sorted(os.listdir(self.img_dir))[idx])\n",
        "\n",
        "        # image = cv2.cvtColor(cv2.imread(img_path), cv2.COLOR_BGR2RGB)\n",
        "        image = read_image(img_path, ImageReadMode.RGB).float()/255\n",
        "        #print(len(image))\n",
        "        if len(image) == 1:\n",
        "            image = torch.cat([image, image, image], dim=0)\n",
        "        labels = self.getCoords(gt_path, image.shape[1:])\n",
        "\n",
        "        #print(np.sum(labels))\n",
        "        #print(labels.shape)\n",
        "        \n",
        "        if self.transform:\n",
        "            #print(image.shape)\n",
        "            image = self.transform(image)\n",
        "            #print(image.shape)\n",
        "\n",
        "        #if idx % 20 == 0:\n",
        "          #print(idx)\n",
        "        image = TF.center_crop(image, (256,256))\n",
        "        # print(labels.sum())\n",
        "        labels_gt = TF.center_crop(labels, (64,64))\n",
        "        # print(labels_gt.sum())\n",
        "\n",
        "        if self.target_transform:\n",
        "            #labels = torch.from_numpy(labels)\n",
        "            #print(torch.sum(labels))\n",
        "            #print(labels.shape)\n",
        "            labels = self.target_transform(labels_gt)\n",
        "            #print('g')\n",
        "            #print(torch.sum(labels))\n",
        "\n",
        "            #labels = transforms.Lambda(lambda x: torch.where(x > 0.0, 1.0, 0.0))(labels)\n",
        "            \n",
        "            #print('schlatt')\n",
        "            #print(torch.sum(labels))\n",
        "            #print('a')\n",
        "\n",
        "        #print(labels.sum())\n",
        "        # (i, j) is the crop's starting point\n",
        "        # (h, w) is the crop's size\n",
        "\n",
        "        # i, j, h, w = transforms.RandomCrop.get_params(\n",
        "        #     image, output_size=(256, 256))\n",
        "        # image = TF.crop(image, i, j, h, w)\n",
        "        # print(labels.sum())\n",
        "        # labels = TF.crop(labels, (i + int(h/4)), (j + int(w/4)), 128, 128)\n",
        "        # print(labels.sum())\n",
        "\n",
        "        # print(idx)\n",
        "        # image = TF.center_crop(image, (256,256))\n",
        "        # print(labels.sum())\n",
        "        # labels = TF.center_crop(labels, (64,64))\n",
        "        # print(labels.sum())\n",
        "        \n",
        "        # if self.gaussian:\n",
        "        #     labels = self.gaussian(labels)\n",
        "        #print(torch.sum(labels))\n",
        "        # print(idx)\n",
        "        # print(image.shape)\n",
        "        #print(labels.shape)\n",
        "        # print(i,j,h,w)\n",
        "        # print((i + int(h/4)), (j + int(h/4)), 128, 128)\n",
        "        return image, labels, labels_gt\n",
        "    \n",
        "    # Return an np array with all the heads' coordinates\n",
        "    # Storing the ground truths in an array makes transforms easier\n",
        "    def getCoords(self, gt_path, image_shape):\n",
        "        resize_factor = min(image_shape[0], image_shape[1]) / 128\n",
        "        faces = torch.zeros(\n",
        "            int(image_shape[0] / resize_factor),\n",
        "            int(image_shape[1] / resize_factor)\n",
        "        )\n",
        "        #print(faces.shape)\n",
        "        with open(gt_path,'r') as data_file:\n",
        "            for line in data_file:\n",
        "                data = line.split()\n",
        "                #data_y = min(int(data[1]), faces.shape[0] - 1)\n",
        "                #data_x = min(int(data[0]), faces.shape[1] - 1)\n",
        "                data_y = int(int(data[1]) / resize_factor)\n",
        "                data_x = int(int(data[0]) / resize_factor)\n",
        "                if data_y >= faces.shape[0] or data_x >= faces.shape[1]:\n",
        "                    continue\n",
        "                # if data_y > faces.shape[0]:\n",
        "                #     #data_y = faces.shape[0]\n",
        "                #     continue\n",
        "                # elif data_x > faces.shape[1]:\n",
        "                #     #data_x = faces.shape[1]\n",
        "                #     continue\n",
        "                faces[data_y, data_x] += 1\n",
        "\n",
        "        #print('corn dog')\n",
        "        #print(np.sum(faces))\n",
        "        #print(faces.shape)\n",
        "        #faces = faces.reshape(1, *faces.shape)\n",
        "        #print(faces.shape)\n",
        "        return faces.unsqueeze(0)"
      ],
      "metadata": {
        "id": "pVTWD61sN1WN"
      },
      "execution_count": 16,
      "outputs": []
    },
    {
      "cell_type": "code",
      "source": [
        "# Apply transforms\n",
        "# transformer = transforms.Compose([\n",
        "#     Scale(size=(512,512)),\n",
        "#     RandomCrop(size=(512,512)),\n",
        "#     Normalize_01(),\n",
        "#     ToTensor()\n",
        "# ])\n",
        "\n",
        "transformer = transforms.Compose([\n",
        "    transforms.Resize(512),\n",
        "])\n",
        "target_transformer = transforms.Compose([\n",
        "    transforms.GaussianBlur(11, (3, 3)),\n",
        "])"
      ],
      "metadata": {
        "id": "p5hS4rNc0gZt"
      },
      "execution_count": 17,
      "outputs": []
    },
    {
      "cell_type": "code",
      "source": [
        "# Get directories\n",
        "train_gt_dir = os.path.join(train_dir, 'gt')\n",
        "train_img_dir = os.path.join(train_dir, 'images')\n",
        "val_gt_dir = os.path.join(val_dir, 'gt')\n",
        "val_img_dir = os.path.join(val_dir, 'images')\n",
        "test_gt_dir = os.path.join(test_dir, 'gt')\n",
        "test_img_dir = os.path.join(test_dir, 'images')"
      ],
      "metadata": {
        "id": "OKHffbXwx2_b"
      },
      "execution_count": 18,
      "outputs": []
    },
    {
      "cell_type": "code",
      "source": [
        "# Create datasets\n",
        "\n",
        "train_data = JHUCrowdDataset(train_gt_dir, train_img_dir, transform=transformer, target_transform=target_transformer)\n",
        "train_data_nb = JHUCrowdDataset(train_gt_dir, train_img_dir, transform=transformer)\n",
        "val_data = JHUCrowdDataset(val_gt_dir, val_img_dir, transform=transformer, target_transform=target_transformer)\n",
        "#test_data = JHUCrowdDataset(test_gt_dir, test_img_dir, transform=transformer, target_transform=target_transformer)"
      ],
      "metadata": {
        "id": "5zx2EZvuwgFn"
      },
      "execution_count": 19,
      "outputs": []
    },
    {
      "cell_type": "code",
      "source": [
        "# Create subsets of agreed-upon sizes, comment to use the full dataset\n",
        "# train_subset = torch.utils.data.Subset(train_data, range(500))\n",
        "# val_subset = torch.utils.data.Subset(train_data, range(100))\n",
        "# test_subset = torch.utils.data.Subset(train_data, range(200))\n",
        "# type(train_subset)"
      ],
      "metadata": {
        "id": "j1TVmYh-a2T1"
      },
      "execution_count": 20,
      "outputs": []
    },
    {
      "cell_type": "code",
      "source": [
        "train_dataloader = DataLoader(train_data, batch_size=64, shuffle=False)\n",
        "val_dataloader = DataLoader(val_data, batch_size=64, shuffle=False)\n",
        "#test_dataloader = DataLoader(test_data, batch_size=64, shuffle=False)"
      ],
      "metadata": {
        "id": "0aIw5XMgwI-o"
      },
      "execution_count": 21,
      "outputs": []
    },
    {
      "cell_type": "code",
      "source": [
        "# Run through a batch to confirm it loads properly\n",
        "for i, data in enumerate(val_dataloader):\n",
        "    print(data[0].shape)\n",
        "    print(data[1].shape)\n",
        "    print(data[2].shape)\n",
        "    break"
      ],
      "metadata": {
        "id": "v-IYTTOKG5ot",
        "colab": {
          "base_uri": "https://localhost:8080/"
        },
        "outputId": "6905e20b-dd20-46a2-c60c-e1c56a3d0941"
      },
      "execution_count": 22,
      "outputs": [
        {
          "output_type": "stream",
          "name": "stdout",
          "text": [
            "torch.Size([64, 3, 256, 256])\n",
            "torch.Size([64, 1, 64, 64])\n",
            "torch.Size([64, 1, 64, 64])\n"
          ]
        }
      ]
    },
    {
      "cell_type": "code",
      "source": [
        "# Visualize one of the images\n",
        "# fig = plt.figure(figsize=(10, 10))\n",
        "\n",
        "# for i in range(len(train_dataset)):\n",
        "i = 36\n",
        "sample = train_data[i]\n",
        "\n",
        "print(sample[0].shape, sample[1].shape)\n",
        "\n",
        "ax = plt.subplot(1, 1, 1)\n",
        "plt.tight_layout()\n",
        "ax.set_title('Sample #{}'.format(i))\n",
        "ax.axis('off')\n",
        "\n",
        "plt.imshow(sample[0].permute(1,2,0))\n",
        "# Render image"
      ],
      "metadata": {
        "id": "-Ahdtpbdp5Aw",
        "colab": {
          "base_uri": "https://localhost:8080/",
          "height": 327
        },
        "outputId": "b1561338-d469-47b5-8042-9cdaa14f229b"
      },
      "execution_count": 23,
      "outputs": [
        {
          "output_type": "stream",
          "name": "stdout",
          "text": [
            "torch.Size([3, 256, 256]) torch.Size([1, 64, 64])\n"
          ]
        },
        {
          "output_type": "execute_result",
          "data": {
            "text/plain": [
              "<matplotlib.image.AxesImage at 0x7f2af9207460>"
            ]
          },
          "metadata": {},
          "execution_count": 23
        },
        {
          "output_type": "display_data",
          "data": {
            "text/plain": [
              "<Figure size 432x288 with 1 Axes>"
            ],
            "image/png": "[encoded data removed]"
          },
          "metadata": {
            "needs_background": "light"
          }
        }
      ]
    },
    {
      "cell_type": "code",
      "source": [
        "plt.imshow(sample[0].permute(1,2,0))\n",
        "plt.imshow(sample[1][0,:,:], alpha=0.5)\n",
        "# Render Gaussian distribution"
      ],
      "metadata": {
        "id": "6vA4L0ukX_ww",
        "colab": {
          "base_uri": "https://localhost:8080/",
          "height": 285
        },
        "outputId": "ec6a42be-5cde-4c70-f600-6356aed923d1"
      },
      "execution_count": 24,
      "outputs": [
        {
          "output_type": "execute_result",
          "data": {
            "text/plain": [
              "<matplotlib.image.AxesImage at 0x7f2af91f6bb0>"
            ]
          },
          "metadata": {},
          "execution_count": 24
        },
        {
          "output_type": "display_data",
          "data": {
            "text/plain": [
              "<Figure size 432x288 with 1 Axes>"
            ],
            "image/png": "[encoded data removed]"
          },
          "metadata": {
            "needs_background": "light"
          }
        }
      ]
    },
    {
      "cell_type": "code",
      "source": [
        "# Count how many people are in the Gaussian versus the ground truth\n",
        "sample[1].sum(), sample[2].sum() #train_data_nb[i][1].sum(), train_data[i][1].sum()"
      ],
      "metadata": {
        "id": "bCy-0Bi6UF1D",
        "colab": {
          "base_uri": "https://localhost:8080/"
        },
        "outputId": "daafff9f-ab85-423a-e540-1ffbfd10af67"
      },
      "execution_count": 25,
      "outputs": [
        {
          "output_type": "execute_result",
          "data": {
            "text/plain": [
              "(tensor(4625.8447), tensor(4627.))"
            ]
          },
          "metadata": {},
          "execution_count": 25
        }
      ]
    },
    {
      "cell_type": "code",
      "source": [
        "# Resized ground truth with no Gaussian\n",
        "(train_data_nb[i][1])[0].shape"
      ],
      "metadata": {
        "id": "fUz_P2aAMZfv",
        "colab": {
          "base_uri": "https://localhost:8080/"
        },
        "outputId": "fb4cef10-2222-4686-b7dd-f771a84d735f"
      },
      "execution_count": 26,
      "outputs": [
        {
          "output_type": "execute_result",
          "data": {
            "text/plain": [
              "torch.Size([128, 192])"
            ]
          },
          "metadata": {},
          "execution_count": 26
        }
      ]
    },
    {
      "cell_type": "code",
      "source": [
        "# Render ground truth with no Gaussian\n",
        "plt.imshow((sample[2])[0], cmap=\"gray\")"
      ],
      "metadata": {
        "id": "KXSiTVkN6fQu",
        "colab": {
          "base_uri": "https://localhost:8080/",
          "height": 285
        },
        "outputId": "af9330b4-33dd-44f2-ede8-58a5135562a1"
      },
      "execution_count": 27,
      "outputs": [
        {
          "output_type": "execute_result",
          "data": {
            "text/plain": [
              "<matplotlib.image.AxesImage at 0x7f2af91f6b50>"
            ]
          },
          "metadata": {},
          "execution_count": 27
        },
        {
          "output_type": "display_data",
          "data": {
            "text/plain": [
              "<Figure size 432x288 with 1 Axes>"
            ],
            "image/png": "[encoded data removed]"
          },
          "metadata": {
            "needs_background": "light"
          }
        }
      ]
    },
    {
      "cell_type": "code",
      "source": [
        "# plt.figure(figsize=(10, 10))\n",
        "# plt.imshow((sample[1]).permute(1, 2, 0), cmap=\"gray\")"
      ],
      "metadata": {
        "id": "O4_xkEzH6vm_"
      },
      "execution_count": 28,
      "outputs": []
    },
    {
      "cell_type": "code",
      "source": [
        "from torch import nn\n",
        "from torchvision import models\n",
        "import torchsummary"
      ],
      "metadata": {
        "id": "ktaJtXjO9I3r"
      },
      "execution_count": 29,
      "outputs": []
    },
    {
      "cell_type": "code",
      "source": [
        "device = \"cuda\" if torch.cuda.is_available() else \"cpu\"\n",
        "print(f\"Using {device} device\")"
      ],
      "metadata": {
        "id": "vNBIYQ62Fr7v",
        "colab": {
          "base_uri": "https://localhost:8080/"
        },
        "outputId": "76060f70-31cb-4a7d-947e-035bd555fdfa"
      },
      "execution_count": 30,
      "outputs": [
        {
          "output_type": "stream",
          "name": "stdout",
          "text": [
            "Using cuda device\n"
          ]
        }
      ]
    },
    {
      "cell_type": "code",
      "source": [
        "DEVICE = torch.device('cuda:0')"
      ],
      "metadata": {
        "id": "E20LxYVaK474"
      },
      "execution_count": 31,
      "outputs": []
    },
    {
      "cell_type": "markdown",
      "source": [
        "### CG-DRCN Architecture"
      ],
      "metadata": {
        "id": "Qp6xQPW9ToPe"
      }
    },
    {
      "cell_type": "code",
      "source": [
        "# Implementing CG-DRCN model from paper specifications\n",
        "# Source: http://www.crowd-counting.com/assets/img/jhucrowdv1_iccv19.pdf\n",
        "\n",
        "class CGDRCN(nn.Module):\n",
        "  def __init__(self):\n",
        "    super().__init__()\n",
        "    self.vgg16_model = models.vgg16(pretrained=True)\n",
        "    self.C1 = list(self.vgg16_model.children())[0][0:4]\n",
        "    self.C2 = list(self.vgg16_model.children())[0][5:10]\n",
        "    self.C3 = list(self.vgg16_model.children())[0][10:17]\n",
        "    self.C4 = list(self.vgg16_model.children())[0][17:24]\n",
        "    self.C5 = list(self.vgg16_model.children())[0][24:]\n",
        "    self.CB6 = nn.Sequential(\n",
        "        nn.Conv2d(512, 32, 1, stride=1),\n",
        "        nn.ReLU(),\n",
        "        nn.Conv2d(32, 32, 3, stride=1, padding=1),\n",
        "        nn.ReLU(),\n",
        "        nn.Conv2d(32, 1, 3, stride=1, padding=1),\n",
        "        nn.MaxPool2d(kernel_size=2, stride=2)\n",
        "    )\n",
        "\n",
        "    self.CB5 = nn.Sequential(\n",
        "        nn.Conv2d(512, 32, 1, stride=1),\n",
        "        nn.ReLU(),\n",
        "        nn.Conv2d(32, 32, 3, stride=1, padding=1),\n",
        "        nn.ReLU(),\n",
        "        nn.Conv2d(32, 1, 3, stride=1, padding=1),\n",
        "    )\n",
        "    self.CB4 = nn.Sequential(\n",
        "        nn.Conv2d(512, 32, 1, stride=1),\n",
        "        nn.ReLU(),\n",
        "        nn.Conv2d(32, 32, 3, stride=1, padding=1),\n",
        "        nn.ReLU(),\n",
        "        nn.Conv2d(32, 1, 3, stride=1, padding=1),\n",
        "    )\n",
        "    self.CB3 = nn.Sequential(\n",
        "        nn.Conv2d(256, 32, 1, stride=1),\n",
        "        nn.ReLU(),\n",
        "        nn.Conv2d(32, 32, 3, stride=1, padding=1),\n",
        "        nn.ReLU(),\n",
        "        nn.Conv2d(32, 1, 3, stride=1, padding=1),\n",
        "    )\n",
        "\n",
        "    self.DR5 = nn.Sequential(\n",
        "        nn.Conv2d(in_channels=512, out_channels=32, kernel_size=1)\n",
        "    )\n",
        "    self.DR4 = nn.Sequential(\n",
        "        nn.Conv2d(in_channels=512, out_channels=32, kernel_size=1)\n",
        "    )\n",
        "    self.DR3 = nn.Sequential(\n",
        "        nn.Conv2d(in_channels=256, out_channels=32, kernel_size=1)\n",
        "    )\n",
        "\n",
        "    self.CEB5 = nn.Sequential(\n",
        "        nn.Conv2d(33, 32, 1, stride=1),\n",
        "        nn.ReLU(),\n",
        "        nn.Conv2d(32, 16, 3, stride=1, padding=1),\n",
        "        nn.ReLU(),\n",
        "        nn.Conv2d(16, 16, 3, stride=1, padding=1),\n",
        "        nn.ReLU(),\n",
        "        nn.Conv2d(16, 1, 1, stride=1),\n",
        "        nn.ReLU(),\n",
        "    )\n",
        "    self.CEB4 = nn.Sequential(\n",
        "        nn.Conv2d(33, 32, 1, stride=1),\n",
        "        nn.ReLU(),\n",
        "        nn.Conv2d(32, 16, 3, stride=1, padding=1),\n",
        "        nn.ReLU(),\n",
        "        nn.Conv2d(16, 16, 3, stride=1, padding=1),\n",
        "        nn.ReLU(),\n",
        "        nn.Conv2d(16, 1, 1, stride=1),\n",
        "        nn.ReLU(),\n",
        "    )\n",
        "    self.CEB3 = nn.Sequential(\n",
        "        nn.Conv2d(33, 32, 1, stride=1),\n",
        "        nn.ReLU(),\n",
        "        nn.Conv2d(32, 16, 3, stride=1, padding=1),\n",
        "        nn.ReLU(),\n",
        "        nn.Conv2d(16, 16, 3, stride=1, padding=1),\n",
        "        nn.ReLU(),\n",
        "        nn.Conv2d(16, 1, 1, stride=1),\n",
        "        nn.ReLU(),\n",
        "    )\n",
        "\n",
        "    self.up = nn.Sequential(\n",
        "        nn.Upsample(scale_factor = 2, mode = 'bilinear')\n",
        "    )\n",
        "  def forward(self, x):\n",
        "    #print(x.shape)\n",
        "    F1 = self.C1(x)\n",
        "    F2 = self.C2(F1)\n",
        "    F3 = self.C3(F2)\n",
        "    F4 = self.C4(F3)\n",
        "    F5 = self.C5(F4)\n",
        "    #print('F5', F5.shape)\n",
        "    Yhat6 = self.CB6(F5)\n",
        "\n",
        "    dimRed5 = self.DR5(F5)\n",
        "    # print(dimRed5.shape)\n",
        "    R5 = self.CB5(F5)\n",
        "    # print(R5.shape)\n",
        "    concat5 = torch.concat((dimRed5, R5), 1)\n",
        "    CM5 = self.CEB5(concat5)\n",
        "    Rhat5 = torch.mul(R5, CM5)\n",
        "\n",
        "    dimRed4 = self.DR4(F4)\n",
        "    #print(dimRed4.shape)\n",
        "    R4 = self.CB4(F4)\n",
        "    #print(R4.shape)\n",
        "    concat4 = torch.concat((dimRed4, R4), 1)\n",
        "    #print(concat4.shape)\n",
        "    CM4 = self.CEB4(concat4)\n",
        "    #print(CM4.shape)\n",
        "    Rhat4 = torch.mul(R4, CM4)\n",
        "    #print(Rhat4.shape)\n",
        "\n",
        "    dimRed3 = self.DR3(F3)\n",
        "    R3 = self.CB3(F3)\n",
        "    concat3 = torch.concat((dimRed3, R3), 1)\n",
        "    CM3 = self.CEB3(concat3)\n",
        "    Rhat3 = torch.mul(R3, CM3)\n",
        "\n",
        "    Yhat5 = Rhat5 + self.up(Yhat6)\n",
        "    Yhat4 = Rhat4 + self.up(Yhat5)\n",
        "    Yhat3 = Rhat3 + self.up(Yhat4)\n",
        "\n",
        "    CMi = (CM3, CM4, CM5, Yhat6)\n",
        "    Yi = (F3, F4, F5, Yhat6)\n",
        "    Yhati = (Yhat3, Yhat4, Yhat5, Yhat6)\n",
        "\n",
        "    return Yhat3, CMi, Yi, Yhati"
      ],
      "metadata": {
        "id": "k1T5g56vk0oF"
      },
      "execution_count": 32,
      "outputs": []
    },
    {
      "cell_type": "code",
      "source": [
        "cgdrcn = CGDRCN()"
      ],
      "metadata": {
        "id": "vfx8DfoAmZee",
        "colab": {
          "base_uri": "https://localhost:8080/",
          "height": 86,
          "referenced_widgets": [
            "eb747ef206164033918ae863b5135fb1",
            "33f1680758bd46c9a13299419f8204ef",
            "726bd946bd024948b1a71eb4c9ff2883",
            "3509ff9cd5a248e4bd776fe789cf2a1f",
            "698dcfe656fd48bb873d621c2bccd86b",
            "01610fb0107447d8bf56612348ac3817",
            "1d5694c7582b49af9d798f936d57a06e",
            "d722a88bf9a04d1ea9a5babebe5ca727",
            "f0042b1c68024859a2d243b8b882fa55",
            "3d4283bbb8ac4d108ef5cfb770e9a687",
            "8b08a34d2cfd47d99918898786f396da"
          ]
        },
        "outputId": "264a7cdd-6e20-4388-b5c0-0611b7701296"
      },
      "execution_count": null,
      "outputs": [
        {
          "output_type": "stream",
          "name": "stderr",
          "text": [
            "Downloading: \"https://download.pytorch.org/models/vgg16-397923af.pth\" to /root/.cache/torch/hub/checkpoints/vgg16-397923af.pth\n"
          ]
        },
        {
          "output_type": "display_data",
          "data": {
            "text/plain": [
              "  0%|          | 0.00/528M [00:00<?, ?B/s]"
            ],
            "application/vnd.jupyter.widget-view+json": {
              "version_major": 2,
              "version_minor": 0,
              "model_id": "eb747ef206164033918ae863b5135fb1"
            }
          },
          "metadata": {}
        }
      ]
    },
    {
      "cell_type": "code",
      "source": [
        "# Test-run an image of the equivalent size we will use\n",
        "torchsummary.summary(cgdrcn, (3,256,256))"
      ],
      "metadata": {
        "colab": {
          "base_uri": "https://localhost:8080/",
          "height": 165
        },
        "id": "KedfSMSomRYg",
        "outputId": "0d54d63b-bd39-42ec-9d87-f2de61010160"
      },
      "execution_count": null,
      "outputs": [
        {
          "output_type": "error",
          "ename": "NameError",
          "evalue": "ignored",
          "traceback": [
            "\u001b[0;31m---------------------------------------------------------------------------\u001b[0m",
            "\u001b[0;31mNameError\u001b[0m                                 Traceback (most recent call last)",
            "\u001b[0;32m<ipython-input-37-998f17918bb9>\u001b[0m in \u001b[0;36m<module>\u001b[0;34m\u001b[0m\n\u001b[0;32m----> 1\u001b[0;31m \u001b[0mtorchsummary\u001b[0m\u001b[0;34m.\u001b[0m\u001b[0msummary\u001b[0m\u001b[0;34m(\u001b[0m\u001b[0mcgdrcn\u001b[0m\u001b[0;34m,\u001b[0m \u001b[0;34m(\u001b[0m\u001b[0;36m3\u001b[0m\u001b[0;34m,\u001b[0m\u001b[0;36m256\u001b[0m\u001b[0;34m,\u001b[0m\u001b[0;36m256\u001b[0m\u001b[0;34m)\u001b[0m\u001b[0;34m)\u001b[0m\u001b[0;34m\u001b[0m\u001b[0;34m\u001b[0m\u001b[0m\n\u001b[0m",
            "\u001b[0;31mNameError\u001b[0m: name 'cgdrcn' is not defined"
          ]
        }
      ]
    },
    {
      "cell_type": "code",
      "source": [
        "data[0].shape"
      ],
      "metadata": {
        "colab": {
          "base_uri": "https://localhost:8080/"
        },
        "id": "nWeWzaXHa9og",
        "outputId": "cf1f95ea-ee2a-4b08-83ae-753b246c235e"
      },
      "execution_count": null,
      "outputs": [
        {
          "output_type": "execute_result",
          "data": {
            "text/plain": [
              "torch.Size([64, 3, 256, 256])"
            ]
          },
          "metadata": {},
          "execution_count": 39
        }
      ]
    },
    {
      "cell_type": "code",
      "source": [
        "data = train_data[35]\n",
        "image = torch.tensor(data[0], dtype=torch.float32)\n",
        "print(image.shape, image.dtype)\n",
        "print(data[1].shape)\n",
        "out, CMi, Yi, Yhati = cgdrcn( torch.stack([image]) )"
      ],
      "metadata": {
        "colab": {
          "base_uri": "https://localhost:8080/"
        },
        "id": "fHCp5egv7exq",
        "outputId": "70f10be9-cd9c-4e64-f9f9-f0a305767a0f"
      },
      "execution_count": null,
      "outputs": [
        {
          "output_type": "stream",
          "name": "stdout",
          "text": [
            "35\n",
            "tensor(3.)\n",
            "tensor(1.)\n",
            "tensor(1.0000)\n",
            "torch.Size([1, 64, 64])\n",
            "torch.Size([3, 256, 256]) torch.float32\n",
            "torch.Size([1, 64, 64])\n",
            "torch.Size([1, 32, 16, 16])\n",
            "torch.Size([1, 1, 16, 16])\n"
          ]
        }
      ]
    },
    {
      "cell_type": "code",
      "source": [
        "out[0].sum()"
      ],
      "metadata": {
        "id": "Q3pzlyjm9MwU"
      },
      "execution_count": null,
      "outputs": []
    },
    {
      "cell_type": "code",
      "source": [
        "import seaborn as sns \n",
        "sns.set_theme()"
      ],
      "metadata": {
        "id": "K7tgKhHxAwzE"
      },
      "execution_count": 33,
      "outputs": []
    },
    {
      "cell_type": "code",
      "source": [
        "fig = plt.figure(figsize=(10, 10))\n",
        "plt.imshow(sample[0][0,:,:], cmap='gray')\n",
        "plt.imshow(out[0][0].detach().numpy(), alpha=0.5)"
      ],
      "metadata": {
        "id": "8IyElbeAAzfx"
      },
      "execution_count": null,
      "outputs": []
    },
    {
      "cell_type": "code",
      "source": [
        "sample[1][0,:,:].sum()"
      ],
      "metadata": {
        "colab": {
          "base_uri": "https://localhost:8080/"
        },
        "id": "bMfDqsFoBdB2",
        "outputId": "5581c08d-0245-4cf4-8cd9-4bf1c92c4551"
      },
      "execution_count": null,
      "outputs": [
        {
          "output_type": "execute_result",
          "data": {
            "text/plain": [
              "tensor(4625.8447)"
            ]
          },
          "metadata": {},
          "execution_count": 38
        }
      ]
    },
    {
      "cell_type": "code",
      "source": [
        "out[0].sum()"
      ],
      "metadata": {
        "id": "NZMU9j4fYon9"
      },
      "execution_count": null,
      "outputs": []
    },
    {
      "cell_type": "code",
      "source": [
        "ax = sns.heatmap(out[0][0].detach().numpy(), cmap=\"Reds\")"
      ],
      "metadata": {
        "id": "HhH82DWThIXI"
      },
      "execution_count": null,
      "outputs": []
    },
    {
      "cell_type": "code",
      "source": [
        "imres = out[0][0].detach()\n",
        "imresFix = transforms.Lambda(lambda x: torch.where(abs(x) > 0.07, 1.0, 0.0))(imres)\n",
        "ax = sns.heatmap(imresFix.numpy(), cmap=\"Reds\")"
      ],
      "metadata": {
        "id": "A5Q-Gdg6A5HW"
      },
      "execution_count": null,
      "outputs": []
    },
    {
      "cell_type": "code",
      "source": [
        "imresFix.sum()"
      ],
      "metadata": {
        "colab": {
          "base_uri": "https://localhost:8080/",
          "height": 165
        },
        "id": "jCYSmyvvBTwl",
        "outputId": "98cf7d92-4400-4fe2-8f5f-89799f3f1be9"
      },
      "execution_count": null,
      "outputs": [
        {
          "output_type": "error",
          "ename": "NameError",
          "evalue": "ignored",
          "traceback": [
            "\u001b[0;31m---------------------------------------------------------------------------\u001b[0m",
            "\u001b[0;31mNameError\u001b[0m                                 Traceback (most recent call last)",
            "\u001b[0;32m<ipython-input-43-a3ae0f679398>\u001b[0m in \u001b[0;36m<module>\u001b[0;34m\u001b[0m\n\u001b[0;32m----> 1\u001b[0;31m \u001b[0mimresFix\u001b[0m\u001b[0;34m.\u001b[0m\u001b[0msum\u001b[0m\u001b[0;34m(\u001b[0m\u001b[0;34m)\u001b[0m\u001b[0;34m\u001b[0m\u001b[0;34m\u001b[0m\u001b[0m\n\u001b[0m",
            "\u001b[0;31mNameError\u001b[0m: name 'imresFix' is not defined"
          ]
        }
      ]
    },
    {
      "cell_type": "code",
      "source": [
        "import torch.nn.functional as nn_F"
      ],
      "metadata": {
        "id": "heW2elU_ESoJ"
      },
      "execution_count": 34,
      "outputs": []
    },
    {
      "cell_type": "code",
      "source": [
        "print(Yi[0].shape)"
      ],
      "metadata": {
        "colab": {
          "base_uri": "https://localhost:8080/"
        },
        "id": "ofmhFdZNn-M5",
        "outputId": "219298b4-5376-497e-c73f-b26227e088a7"
      },
      "execution_count": null,
      "outputs": [
        {
          "output_type": "stream",
          "name": "stdout",
          "text": [
            "torch.Size([1, 256, 64, 64])\n"
          ]
        }
      ]
    },
    {
      "cell_type": "markdown",
      "source": [
        "### CG-DRCN Loss Function"
      ],
      "metadata": {
        "id": "9-7nxmDyUK_B"
      }
    },
    {
      "cell_type": "code",
      "source": [
        "class CGDRCNLoss(nn.Module):\n",
        "  def __init__(self, lambda_c):\n",
        "    super().__init__()\n",
        "    self.lambda_c = lambda_c\n",
        "  def forward(self, CMi, Yi, Yhati):\n",
        "    loss_d = 0\n",
        "    for i in range(len(CMi)):\n",
        "      #for j in range(len(CMi[0])):\n",
        "      #print(i + 3)\n",
        "      # print('real')\n",
        "      # print(CMi[i].shape)\n",
        "      # print(Yi[i].shape)\n",
        "      real = torch.multiply(CMi[i][0][0], Yi[i][0][0])\n",
        "      # print(real.shape)\n",
        "      # print('pred')\n",
        "      # print(CMi[i].shape)\n",
        "      # print(Yhati[i].shape)\n",
        "      pred = torch.multiply(CMi[i][0][0], Yhati[i][0][0])\n",
        "      # print(pred.shape)\n",
        "    #   print('DEBUG')\n",
        "    #   print(real.shape)\n",
        "    #   print(pred.shape)\n",
        "    #   loss_d += torch.linalg.norm((real[0] - pred), ord = 2)\n",
        "    # print(loss_d)\n",
        "    loss_c = 0\n",
        "    for i in range(len(CMi)):\n",
        "      #print(CMi[i])\n",
        "      loss_c += torch.sum(torch.log(CMi[i]))\n",
        "    # print(loss_c)\n",
        "\n",
        "    loss_full = loss_d - self.lambda_c * loss_c\n",
        "\n",
        "    return loss_full"
      ],
      "metadata": {
        "id": "tC4ylYU8EZdl"
      },
      "execution_count": 35,
      "outputs": []
    },
    {
      "cell_type": "code",
      "source": [
        "np.asarray(data[1])"
      ],
      "metadata": {
        "colab": {
          "base_uri": "https://localhost:8080/"
        },
        "id": "sMR2YmAvV1lI",
        "outputId": "d41521e0-267c-4f4e-c5a9-cbee54a83312"
      },
      "execution_count": null,
      "outputs": [
        {
          "output_type": "execute_result",
          "data": {
            "text/plain": [
              "array([[[0., 0., 0., ..., 0., 0., 0.],\n",
              "        [0., 0., 0., ..., 0., 0., 0.],\n",
              "        [0., 0., 0., ..., 0., 0., 0.],\n",
              "        ...,\n",
              "        [0., 0., 0., ..., 0., 0., 0.],\n",
              "        [0., 0., 0., ..., 0., 0., 0.],\n",
              "        [0., 0., 0., ..., 0., 0., 0.]]], dtype=float32)"
            ]
          },
          "metadata": {},
          "execution_count": 79
        }
      ]
    },
    {
      "cell_type": "code",
      "source": [
        "Yi[3].shape"
      ],
      "metadata": {
        "id": "zG7oSGavdWho"
      },
      "execution_count": null,
      "outputs": []
    },
    {
      "cell_type": "code",
      "source": [
        "import torchvision.transforms.functional as fn"
      ],
      "metadata": {
        "id": "oq426Mt8MBdh"
      },
      "execution_count": 36,
      "outputs": []
    },
    {
      "cell_type": "code",
      "source": [
        "Yi64 = torch.tensor(fn.resize(data[0], size=[64,64]), dtype=torch.float32)\n",
        "Yi32 = torch.tensor(fn.resize(data[0], size=[32,32]), dtype=torch.float32)\n",
        "Yi16 = torch.tensor(fn.resize(data[0], size=[16,16]), dtype=torch.float32)\n",
        "Yi8 = torch.tensor(fn.resize(data[0], size=[8,8]), dtype=torch.float32)\n",
        "\n",
        "Yi64g = transforms.Grayscale()(Yi64)\n",
        "Yi32g = transforms.Grayscale()(Yi32)\n",
        "Yi16g = transforms.Grayscale()(Yi16)\n",
        "Yi8g = transforms.Grayscale()(Yi8)\n",
        "\n",
        "Yi = (torch.stack([Yi64g]), torch.stack([Yi32g]), torch.stack([Yi16g]),\n",
        "      torch.stack([Yi8g]))\n",
        "\n",
        "loss_func = CGDRCNLoss(1)"
      ],
      "metadata": {
        "id": "OL3w20pTY3hB"
      },
      "execution_count": null,
      "outputs": []
    },
    {
      "cell_type": "code",
      "source": [
        "loss_v = loss_func(CMi, Yi, Yhati)\n",
        "loss_v"
      ],
      "metadata": {
        "id": "kqOGbcsFO0RJ"
      },
      "execution_count": null,
      "outputs": []
    },
    {
      "cell_type": "code",
      "source": [
        "from torch import optim"
      ],
      "metadata": {
        "id": "kltOOgxzWXz2"
      },
      "execution_count": 37,
      "outputs": []
    },
    {
      "cell_type": "code",
      "source": [
        "cgdrcn = CGDRCN()\n",
        "optimizer = optim.Adam(cgdrcn.parameters(), lr=0.00001)\n",
        "loss_fn = CGDRCNLoss(1)\n",
        "\n",
        "dataIntegra = train_data[0]\n",
        "print(image.shape)\n",
        "image = dataIntegra[0]\n",
        "optimizer.zero_grad()\n",
        "out, CMi, Yi, Yhati = cgdrcn(torch.stack([image]))"
      ],
      "metadata": {
        "id": "ky17bb4vh_NR"
      },
      "execution_count": null,
      "outputs": []
    },
    {
      "cell_type": "code",
      "source": [
        "loss_val = loss_func(out[0], Yi, Yhati)\n",
        "loss_val"
      ],
      "metadata": {
        "id": "KcVqVktRGNgo"
      },
      "execution_count": null,
      "outputs": []
    },
    {
      "cell_type": "markdown",
      "source": [
        "### CG-DRCN Training Loop"
      ],
      "metadata": {
        "id": "arlOlkZlQuSp"
      }
    },
    {
      "cell_type": "code",
      "source": [
        "from tqdm.notebook import tqdm\n",
        "import copy\n",
        "import time\n",
        "from pathlib import Path\n",
        "from torch.utils.tensorboard import SummaryWriter\n",
        "import math\n",
        "!pip install -q tensorboard"
      ],
      "metadata": {
        "id": "F1MqXY2mP3rB"
      },
      "execution_count": 168,
      "outputs": []
    },
    {
      "cell_type": "code",
      "source": [
        "DEVICE = torch.device('cuda:0')"
      ],
      "metadata": {
        "id": "N1kpYEftQwQn"
      },
      "execution_count": 169,
      "outputs": []
    },
    {
      "cell_type": "code",
      "source": [
        "!nvidia-smi"
      ],
      "metadata": {
        "id": "o25MwWe1Ta8F",
        "colab": {
          "base_uri": "https://localhost:8080/"
        },
        "outputId": "d20365a5-9216-4ba4-b81a-957860faae77"
      },
      "execution_count": 170,
      "outputs": [
        {
          "output_type": "stream",
          "name": "stdout",
          "text": [
            "Mon Dec 12 03:31:59 2022       \n",
            "+-----------------------------------------------------------------------------+\n",
            "| NVIDIA-SMI 460.32.03    Driver Version: 460.32.03    CUDA Version: 11.2     |\n",
            "|-------------------------------+----------------------+----------------------+\n",
            "| GPU  Name        Persistence-M| Bus-Id        Disp.A | Volatile Uncorr. ECC |\n",
            "| Fan  Temp  Perf  Pwr:Usage/Cap|         Memory-Usage | GPU-Util  Compute M. |\n",
            "|                               |                      |               MIG M. |\n",
            "|===============================+======================+======================|\n",
            "|   0  Tesla T4            Off  | 00000000:00:04.0 Off |                    0 |\n",
            "| N/A   64C    P0    29W /  70W |  14888MiB / 15109MiB |      0%      Default |\n",
            "|                               |                      |                  N/A |\n",
            "+-------------------------------+----------------------+----------------------+\n",
            "                                                                               \n",
            "+-----------------------------------------------------------------------------+\n",
            "| Processes:                                                                  |\n",
            "|  GPU   GI   CI        PID   Type   Process name                  GPU Memory |\n",
            "|        ID   ID                                                   Usage      |\n",
            "|=============================================================================|\n",
            "+-----------------------------------------------------------------------------+\n"
          ]
        }
      ]
    },
    {
      "cell_type": "code",
      "source": [
        "CHECKPOINT_FOLDER = Path(r\"/content/jhu/checkpoints\")"
      ],
      "metadata": {
        "id": "cYtZUrOJQzhi"
      },
      "execution_count": 171,
      "outputs": []
    },
    {
      "cell_type": "code",
      "source": [
        "!ln -s /content/jhu/checkpoints checkpoints"
      ],
      "metadata": {
        "id": "OqpDH266R6Jw",
        "colab": {
          "base_uri": "https://localhost:8080/"
        },
        "outputId": "aa52f910-52f1-4369-fc1d-d208870b0e5a"
      },
      "execution_count": 172,
      "outputs": [
        {
          "output_type": "stream",
          "name": "stdout",
          "text": [
            "ln: failed to create symbolic link 'checkpoints': File exists\n"
          ]
        }
      ]
    },
    {
      "cell_type": "code",
      "source": [
        "import pdb"
      ],
      "metadata": {
        "id": "Sx2q0cFBLNVJ"
      },
      "execution_count": 173,
      "outputs": []
    },
    {
      "cell_type": "code",
      "source": [
        "@torch.no_grad()\n",
        "def val_acc(m, valloader):\n",
        "  loss_list_full = []\n",
        "  loss_list_mae = []\n",
        "  loss_list_mse = []\n",
        "  m = m.eval()\n",
        "  loss_func = CGDRCNLoss(1)\n",
        "  #indexVal = 0\n",
        "  for image, labels, labels_gt in valloader:\n",
        "    #print(indexVal)\n",
        "    #breakpoint()\n",
        "    image = image.to(DEVICE)\n",
        "    labels = labels.to(DEVICE)\n",
        "    labels_gt = labels_gt.to(DEVICE)\n",
        "    #out, CMi, Yi, Yhati = cgdrcn(torch.stack([image]))\n",
        "    out, CMi, Yi, Yhati = cgdrcn(image)\n",
        "    \n",
        "    Yi64 = torch.tensor(fn.resize(image, size=[64,64]), dtype=torch.float32)\n",
        "    Yi32 = torch.tensor(fn.resize(image, size=[32,32]), dtype=torch.float32)\n",
        "    Yi16 = torch.tensor(fn.resize(image, size=[16,16]), dtype=torch.float32)\n",
        "    Yi8 = torch.tensor(fn.resize(image, size=[8,8]), dtype=torch.float32)\n",
        "\n",
        "    Yi64g = transforms.Grayscale()(Yi64)\n",
        "    Yi32g = transforms.Grayscale()(Yi32)\n",
        "    Yi16g = transforms.Grayscale()(Yi16)\n",
        "    Yi8g = transforms.Grayscale()(Yi8)\n",
        "\n",
        "    Yi = (torch.stack([Yi64g]), torch.stack([Yi32g]), torch.stack([Yi16g]),\n",
        "          torch.stack([Yi8g]))\n",
        "    \n",
        "    loss_val = loss_func(CMi, Yi, Yhati)\n",
        "    loss_mae = torch.abs(labels_gt.sum() - out[0].sum())\n",
        "    loss_mse = torch.square(torch.abs(labels_gt.sum() - out[0].sum()))\n",
        "    loss_list_full.append(loss_val)\n",
        "    loss_list_mae.append(loss_mae.item())\n",
        "    loss_list_mse.append(loss_mse.item())\n",
        "\n",
        "    del image\n",
        "    del labels\n",
        "    del labels_gt\n",
        "    #indexVal += 1\n",
        "  \n",
        "  return sum(loss_list_full) / len(loss_list_full),\\\n",
        "          sum(loss_list_mae) / len(loss_list_mae),\\\n",
        "          math.sqrt(sum(loss_list_mse) / len(loss_list_mse))"
      ],
      "metadata": {
        "id": "KG_hDZqZS7Dx"
      },
      "execution_count": 174,
      "outputs": []
    },
    {
      "cell_type": "code",
      "source": [
        "def train(epoch, m, loss_fn, optimizer, trainloader, valloader=None, best_epoch_start=200):\n",
        "  pbar = tqdm(range(epoch))\n",
        "  loss_list = []\n",
        "  val_acc_list = []\n",
        "  val_mae = 0.\n",
        "  val_mse = 0.\n",
        "  best_model = copy.deepcopy(m.state_dict())\n",
        "  best_val_acc = 0.\n",
        "  best_epoch = best_epoch_start\n",
        "  total_time = 0.\n",
        "\n",
        "  writer = SummaryWriter()\n",
        "\n",
        "  for i in pbar:\n",
        "    print('epoch start')\n",
        "    sub_loss_list = []\n",
        "\n",
        "    m = m.train()\n",
        "    start = time.time()\n",
        "\n",
        "    for image, labels, labels_gt in trainloader:\n",
        "      image = image.to(DEVICE)\n",
        "      labels = labels.to(DEVICE)\n",
        "      labels_gt = labels_gt.to(DEVICE)\n",
        "\n",
        "      # forward\n",
        "      out, CMi, Yi, Yhati = m(image)\n",
        "\n",
        "      # calculate loss\n",
        "      Yi64 = torch.tensor(fn.resize(image, size=[64,64]), dtype=torch.float32)\n",
        "      Yi32 = torch.tensor(fn.resize(image, size=[32,32]), dtype=torch.float32)\n",
        "      Yi16 = torch.tensor(fn.resize(image, size=[16,16]), dtype=torch.float32)\n",
        "      Yi8 = torch.tensor(fn.resize(image, size=[8,8]), dtype=torch.float32)\n",
        "\n",
        "      Yi64g = transforms.Grayscale()(Yi64)\n",
        "      Yi32g = transforms.Grayscale()(Yi32)\n",
        "      Yi16g = transforms.Grayscale()(Yi16)\n",
        "      Yi8g = transforms.Grayscale()(Yi8)\n",
        "\n",
        "      Yi = (torch.stack([Yi64g]), torch.stack([Yi32g]), torch.stack([Yi16g]),\n",
        "            torch.stack([Yi8g]))\n",
        "    \n",
        "      optimizer.zero_grad()\n",
        "      loss = loss_fn(CMi, Yi, Yhati)\n",
        "      loss_num = loss.item()\n",
        "      sub_loss_list.append(loss_num)\n",
        "      #pbar.set_description(f'val_acc_lr={val_acc_lr:.4} val_acc_hr={val_acc_hr:.4} loss={loss_num:.4}') \n",
        "      pbar.set_description(f'val_mae={val_mae:.4} val_mse={val_mse:.4} loss={loss_num:.4}')\n",
        "\n",
        "      # backaward\n",
        "      loss.backward()\n",
        "      optimizer.step()\n",
        "\n",
        "    end = time.time()\n",
        "\n",
        "    if valloader is not None:\n",
        "      print('val')\n",
        "      val_loss, val_mae, val_mse = val_acc(m, valloader)\n",
        "      pbar.set_description(f'val_mae={val_mae:.4} val_mse={val_mse:.4} loss={loss_num:.4}') \n",
        "      val_acc_list.append([val_loss, val_mae, val_mse])\n",
        "      # if (i > best_epoch) and (val_acc_v > best_val_acc):\n",
        "      #   best_epoch = i\n",
        "      #   best_val_acc = val_acc_v\n",
        "      #   best_model = copy.deepcopy(m.state_dict())\n",
        "\n",
        "    # checkpoint\n",
        "    # checkpoint = {}\n",
        "    # checkpoint['weights'] = m.state_dict()\n",
        "    # checkpoint['epoch'] = i + 1\n",
        "    # checkpoint['loss'] = loss_num\n",
        "    #torch.save(checkpoint, CHECKPOINT_FOLDER / f'cgdrcn.pt')\n",
        "    \n",
        "    total_time = total_time + (end - start)\n",
        "    epoch_loss = sum(sub_loss_list) / len(sub_loss_list)\n",
        "    loss_list.append(epoch_loss)\n",
        "\n",
        "    # tensorflow\n",
        "    writer.add_scalar(\"Loss/train\", epoch_loss, i)\n",
        "    writer.add_scalar(\"time\", end-start, i)\n",
        "\n",
        "    writer.flush()\n",
        "\n",
        "  print(f'\\ntraining finished in {total_time}s. Best model at epoch={best_epoch} with val_acc={best_val_acc}')\n",
        "  # m.load_state_dict(best_model)\n",
        "  writer.flush()\n",
        "  writer.close()\n",
        "  return loss_list, val_acc_list"
      ],
      "metadata": {
        "id": "0sOQmihza7yS"
      },
      "execution_count": 176,
      "outputs": []
    },
    {
      "cell_type": "markdown",
      "source": [
        "### Running Training"
      ],
      "metadata": {
        "id": "nqG_0qFxUe1E"
      }
    },
    {
      "cell_type": "code",
      "source": [
        "# 90% training, 10% validation\n",
        "from torch.utils.data import DataLoader\n",
        "train_set = JHUCrowdDataset(train_gt_dir, train_img_dir, transform=transformer, target_transform=target_transformer)\n",
        "train_subset = torch.utils.data.Subset(train_data, range(432))\n",
        "trainloader = DataLoader(train_subset, batch_size=24, shuffle=False)\n",
        "\n",
        "val_set = JHUCrowdDataset(val_gt_dir, val_img_dir, transform=transformer, target_transform=target_transformer)\n",
        "val_subset = torch.utils.data.Subset(train_data, range(48))\n",
        "valloader = DataLoader(val_subset, batch_size=24, shuffle=False)"
      ],
      "metadata": {
        "id": "jcKW85NxBWuN"
      },
      "execution_count": 186,
      "outputs": []
    },
    {
      "cell_type": "code",
      "source": [
        "DEVICE = torch.device('cuda:0')"
      ],
      "metadata": {
        "id": "Lu-aLOvcCkwu"
      },
      "execution_count": 187,
      "outputs": []
    },
    {
      "cell_type": "code",
      "source": [
        "from torch import optim\n",
        "DEVICE = torch.device('cuda:0')\n",
        "cgdrcn = CGDRCN()\n",
        "cgdrcn = cgdrcn.to(DEVICE)\n",
        "optimizer = optim.Adam(cgdrcn.parameters(), lr=0.00001)\n",
        "loss_fn = CGDRCNLoss(1) "
      ],
      "metadata": {
        "id": "R71NxRhkCtSw"
      },
      "execution_count": 188,
      "outputs": []
    },
    {
      "cell_type": "code",
      "source": [
        "# manual lr control\n",
        "# params = optimizer.state_dict()\n",
        "# optimizer = optim.SGD(cgdrcn.parameters(), lr=0.00001, momentum=0.9)\n",
        "# optimizer.load_state_dict(params)"
      ],
      "metadata": {
        "id": "qRw8HwL-EFXE"
      },
      "execution_count": 189,
      "outputs": []
    },
    {
      "cell_type": "code",
      "source": [
        "# resume from checkpoint\n",
        "# ckpt = torch.load('checkpoints/cgdrcn.pt')\n",
        "# cgdrcn.load_state_dict(ckpt[\"weights\"])"
      ],
      "metadata": {
        "id": "6z6sxGQIENYQ"
      },
      "execution_count": 190,
      "outputs": []
    },
    {
      "cell_type": "code",
      "source": [
        "# !pip install -q torchinfo\n",
        "# import torchinfo\n",
        "# model = cgdrcn.to('cuda:0')\n",
        "# torchinfo.summary(model, (-1,3,512,512))\n",
        "import torchsummary\n",
        "model = cgdrcn.to('cuda:0')\n",
        "torchsummary.summary(model, (3,256,256), batch_size=1)\n",
        "del model"
      ],
      "metadata": {
        "id": "JtVZRH72ER5X",
        "colab": {
          "base_uri": "https://localhost:8080/"
        },
        "outputId": "12d9871d-9ee2-481c-8f22-800d0252b501"
      },
      "execution_count": 191,
      "outputs": [
        {
          "output_type": "stream",
          "name": "stdout",
          "text": [
            "----------------------------------------------------------------\n",
            "        Layer (type)               Output Shape         Param #\n",
            "================================================================\n",
            "            Conv2d-1          [1, 64, 256, 256]           1,792\n",
            "            Conv2d-2          [1, 64, 256, 256]           1,792\n",
            "              ReLU-3          [1, 64, 256, 256]               0\n",
            "              ReLU-4          [1, 64, 256, 256]               0\n",
            "            Conv2d-5          [1, 64, 256, 256]          36,928\n",
            "            Conv2d-6          [1, 64, 256, 256]          36,928\n",
            "              ReLU-7          [1, 64, 256, 256]               0\n",
            "              ReLU-8          [1, 64, 256, 256]               0\n",
            "            Conv2d-9         [1, 128, 256, 256]          73,856\n",
            "           Conv2d-10         [1, 128, 256, 256]          73,856\n",
            "             ReLU-11         [1, 128, 256, 256]               0\n",
            "             ReLU-12         [1, 128, 256, 256]               0\n",
            "           Conv2d-13         [1, 128, 256, 256]         147,584\n",
            "           Conv2d-14         [1, 128, 256, 256]         147,584\n",
            "             ReLU-15         [1, 128, 256, 256]               0\n",
            "             ReLU-16         [1, 128, 256, 256]               0\n",
            "        MaxPool2d-17         [1, 128, 128, 128]               0\n",
            "        MaxPool2d-18         [1, 128, 128, 128]               0\n",
            "           Conv2d-19         [1, 256, 128, 128]         295,168\n",
            "           Conv2d-20         [1, 256, 128, 128]         295,168\n",
            "             ReLU-21         [1, 256, 128, 128]               0\n",
            "             ReLU-22         [1, 256, 128, 128]               0\n",
            "           Conv2d-23         [1, 256, 128, 128]         590,080\n",
            "           Conv2d-24         [1, 256, 128, 128]         590,080\n",
            "             ReLU-25         [1, 256, 128, 128]               0\n",
            "             ReLU-26         [1, 256, 128, 128]               0\n",
            "           Conv2d-27         [1, 256, 128, 128]         590,080\n",
            "           Conv2d-28         [1, 256, 128, 128]         590,080\n",
            "             ReLU-29         [1, 256, 128, 128]               0\n",
            "             ReLU-30         [1, 256, 128, 128]               0\n",
            "        MaxPool2d-31           [1, 256, 64, 64]               0\n",
            "        MaxPool2d-32           [1, 256, 64, 64]               0\n",
            "           Conv2d-33           [1, 512, 64, 64]       1,180,160\n",
            "           Conv2d-34           [1, 512, 64, 64]       1,180,160\n",
            "             ReLU-35           [1, 512, 64, 64]               0\n",
            "             ReLU-36           [1, 512, 64, 64]               0\n",
            "           Conv2d-37           [1, 512, 64, 64]       2,359,808\n",
            "           Conv2d-38           [1, 512, 64, 64]       2,359,808\n",
            "             ReLU-39           [1, 512, 64, 64]               0\n",
            "             ReLU-40           [1, 512, 64, 64]               0\n",
            "           Conv2d-41           [1, 512, 64, 64]       2,359,808\n",
            "           Conv2d-42           [1, 512, 64, 64]       2,359,808\n",
            "             ReLU-43           [1, 512, 64, 64]               0\n",
            "             ReLU-44           [1, 512, 64, 64]               0\n",
            "        MaxPool2d-45           [1, 512, 32, 32]               0\n",
            "        MaxPool2d-46           [1, 512, 32, 32]               0\n",
            "           Conv2d-47           [1, 512, 32, 32]       2,359,808\n",
            "           Conv2d-48           [1, 512, 32, 32]       2,359,808\n",
            "             ReLU-49           [1, 512, 32, 32]               0\n",
            "             ReLU-50           [1, 512, 32, 32]               0\n",
            "           Conv2d-51           [1, 512, 32, 32]       2,359,808\n",
            "           Conv2d-52           [1, 512, 32, 32]       2,359,808\n",
            "             ReLU-53           [1, 512, 32, 32]               0\n",
            "             ReLU-54           [1, 512, 32, 32]               0\n",
            "           Conv2d-55           [1, 512, 32, 32]       2,359,808\n",
            "           Conv2d-56           [1, 512, 32, 32]       2,359,808\n",
            "             ReLU-57           [1, 512, 32, 32]               0\n",
            "             ReLU-58           [1, 512, 32, 32]               0\n",
            "        MaxPool2d-59           [1, 512, 16, 16]               0\n",
            "        MaxPool2d-60           [1, 512, 16, 16]               0\n",
            "           Conv2d-61            [1, 32, 16, 16]          16,416\n",
            "             ReLU-62            [1, 32, 16, 16]               0\n",
            "           Conv2d-63            [1, 32, 16, 16]           9,248\n",
            "             ReLU-64            [1, 32, 16, 16]               0\n",
            "           Conv2d-65             [1, 1, 16, 16]             289\n",
            "        MaxPool2d-66               [1, 1, 8, 8]               0\n",
            "           Conv2d-67            [1, 32, 16, 16]          16,416\n",
            "           Conv2d-68            [1, 32, 16, 16]          16,416\n",
            "             ReLU-69            [1, 32, 16, 16]               0\n",
            "           Conv2d-70            [1, 32, 16, 16]           9,248\n",
            "             ReLU-71            [1, 32, 16, 16]               0\n",
            "           Conv2d-72             [1, 1, 16, 16]             289\n",
            "           Conv2d-73            [1, 32, 16, 16]           1,088\n",
            "             ReLU-74            [1, 32, 16, 16]               0\n",
            "           Conv2d-75            [1, 16, 16, 16]           4,624\n",
            "             ReLU-76            [1, 16, 16, 16]               0\n",
            "           Conv2d-77            [1, 16, 16, 16]           2,320\n",
            "             ReLU-78            [1, 16, 16, 16]               0\n",
            "           Conv2d-79             [1, 1, 16, 16]              17\n",
            "             ReLU-80             [1, 1, 16, 16]               0\n",
            "           Conv2d-81            [1, 32, 32, 32]          16,416\n",
            "           Conv2d-82            [1, 32, 32, 32]          16,416\n",
            "             ReLU-83            [1, 32, 32, 32]               0\n",
            "           Conv2d-84            [1, 32, 32, 32]           9,248\n",
            "             ReLU-85            [1, 32, 32, 32]               0\n",
            "           Conv2d-86             [1, 1, 32, 32]             289\n",
            "           Conv2d-87            [1, 32, 32, 32]           1,088\n",
            "             ReLU-88            [1, 32, 32, 32]               0\n",
            "           Conv2d-89            [1, 16, 32, 32]           4,624\n",
            "             ReLU-90            [1, 16, 32, 32]               0\n",
            "           Conv2d-91            [1, 16, 32, 32]           2,320\n",
            "             ReLU-92            [1, 16, 32, 32]               0\n",
            "           Conv2d-93             [1, 1, 32, 32]              17\n",
            "             ReLU-94             [1, 1, 32, 32]               0\n",
            "           Conv2d-95            [1, 32, 64, 64]           8,224\n",
            "           Conv2d-96            [1, 32, 64, 64]           8,224\n",
            "             ReLU-97            [1, 32, 64, 64]               0\n",
            "           Conv2d-98            [1, 32, 64, 64]           9,248\n",
            "             ReLU-99            [1, 32, 64, 64]               0\n",
            "          Conv2d-100             [1, 1, 64, 64]             289\n",
            "          Conv2d-101            [1, 32, 64, 64]           1,088\n",
            "            ReLU-102            [1, 32, 64, 64]               0\n",
            "          Conv2d-103            [1, 16, 64, 64]           4,624\n",
            "            ReLU-104            [1, 16, 64, 64]               0\n",
            "          Conv2d-105            [1, 16, 64, 64]           2,320\n",
            "            ReLU-106            [1, 16, 64, 64]               0\n",
            "          Conv2d-107             [1, 1, 64, 64]              17\n",
            "            ReLU-108             [1, 1, 64, 64]               0\n",
            "        Upsample-109             [1, 1, 16, 16]               0\n",
            "        Upsample-110             [1, 1, 32, 32]               0\n",
            "        Upsample-111             [1, 1, 64, 64]               0\n",
            "================================================================\n",
            "Total params: 29,590,199\n",
            "Trainable params: 29,590,199\n",
            "Non-trainable params: 0\n",
            "----------------------------------------------------------------\n",
            "Input size (MB): 0.75\n",
            "Forward/backward pass size (MB): 1462.23\n",
            "Params size (MB): 112.88\n",
            "Estimated Total Size (MB): 1575.86\n",
            "----------------------------------------------------------------\n"
          ]
        }
      ]
    },
    {
      "cell_type": "code",
      "source": [
        "cgdrcn = cgdrcn.to(DEVICE)"
      ],
      "metadata": {
        "id": "IydCQSMUEUiv"
      },
      "execution_count": 192,
      "outputs": []
    },
    {
      "cell_type": "code",
      "source": [
        "loss_list, v_loss_list = train(50, cgdrcn, loss_fn, optimizer, trainloader, valloader=valloader, best_epoch_start=200)"
      ],
      "metadata": {
        "id": "gqlvG4Z7Eys4",
        "colab": {
          "base_uri": "https://localhost:8080/",
          "height": 1000,
          "referenced_widgets": [
            "8e54f8bad85c42c793a2d34541f571c9",
            "794e64470d8a471698d55a37a50e9f18",
            "8adf90d5742b469f91656e7353a429c8",
            "b8af57c81175482b9bcc1bea310fc104",
            "603fb9d6b89b4b4e96b1c62e3df04427",
            "bc6b2e8b26154218b1a616ae53b44cb0",
            "46e7e3578db54ff6824bea2064c29b08",
            "66e0f4b194b64dff93987769dffcca01",
            "b5a9b015624b460f9741aad51f1ae884",
            "f11e771280db4fdd947d7620a0011d53",
            "af3c2093ba084addb25ccd33f928f1da"
          ]
        },
        "outputId": "425957f0-b5e4-404e-dbec-4caf548d4cfb"
      },
      "execution_count": 193,
      "outputs": [
        {
          "output_type": "display_data",
          "data": {
            "text/plain": [
              "  0%|          | 0/50 [00:00<?, ?it/s]"
            ],
            "application/vnd.jupyter.widget-view+json": {
              "version_major": 2,
              "version_minor": 0,
              "model_id": "8e54f8bad85c42c793a2d34541f571c9"
            }
          },
          "metadata": {}
        },
        {
          "output_type": "stream",
          "name": "stdout",
          "text": [
            "epoch start\n",
            "val\n",
            "epoch start\n",
            "val\n",
            "epoch start\n",
            "val\n",
            "epoch start\n",
            "val\n",
            "epoch start\n",
            "val\n",
            "epoch start\n",
            "val\n",
            "epoch start\n",
            "val\n",
            "epoch start\n",
            "val\n",
            "epoch start\n",
            "val\n",
            "epoch start\n",
            "val\n",
            "epoch start\n",
            "val\n",
            "epoch start\n",
            "val\n",
            "epoch start\n",
            "val\n",
            "epoch start\n",
            "val\n",
            "epoch start\n",
            "val\n",
            "epoch start\n",
            "val\n",
            "epoch start\n",
            "val\n",
            "epoch start\n",
            "val\n",
            "epoch start\n",
            "val\n",
            "epoch start\n",
            "val\n",
            "epoch start\n",
            "val\n",
            "epoch start\n",
            "val\n",
            "epoch start\n",
            "val\n",
            "epoch start\n",
            "val\n",
            "epoch start\n",
            "val\n",
            "epoch start\n",
            "val\n",
            "epoch start\n",
            "val\n",
            "epoch start\n",
            "val\n",
            "epoch start\n",
            "val\n",
            "epoch start\n",
            "val\n",
            "epoch start\n",
            "val\n",
            "epoch start\n",
            "val\n",
            "epoch start\n",
            "val\n",
            "epoch start\n",
            "val\n",
            "epoch start\n",
            "val\n",
            "epoch start\n",
            "val\n",
            "epoch start\n",
            "val\n",
            "epoch start\n",
            "val\n",
            "epoch start\n",
            "val\n",
            "epoch start\n",
            "val\n",
            "epoch start\n",
            "val\n",
            "epoch start\n",
            "val\n",
            "epoch start\n",
            "val\n",
            "epoch start\n",
            "val\n",
            "epoch start\n",
            "val\n",
            "epoch start\n",
            "val\n",
            "epoch start\n",
            "val\n",
            "epoch start\n",
            "val\n",
            "epoch start\n",
            "val\n",
            "epoch start\n",
            "val\n",
            "\n",
            "training finished in 1683.455809354782s. Best model at epoch=200 with val_acc=0.0\n"
          ]
        }
      ]
    },
    {
      "cell_type": "markdown",
      "source": [
        "### Results"
      ],
      "metadata": {
        "id": "-lyaUKsvUixF"
      }
    },
    {
      "cell_type": "code",
      "source": [
        "# Load the TensorBoard notebook extension\n",
        "%load_ext tensorboard\n",
        "\n",
        "%tensorboard --logdir=runs"
      ],
      "metadata": {
        "id": "XHqlrdoUFAdp",
        "colab": {
          "base_uri": "https://localhost:8080/",
          "height": 856
        },
        "outputId": "39e09d1d-2755-492e-c2d9-ce7ffa45fc77"
      },
      "execution_count": 194,
      "outputs": [
        {
          "output_type": "stream",
          "name": "stdout",
          "text": [
            "The tensorboard extension is already loaded. To reload it, use:\n",
            "  %reload_ext tensorboard\n"
          ]
        },
        {
          "output_type": "display_data",
          "data": {
            "text/plain": [
              "<IPython.core.display.Javascript object>"
            ],
            "application/javascript": [
              "\n",
              "        (async () => {\n",
              "            const url = new URL(await google.colab.kernel.proxyPort(6006, {'cache': true}));\n",
              "            url.searchParams.set('tensorboardColab', 'true');\n",
              "            const iframe = document.createElement('iframe');\n",
              "            iframe.src = url;\n",
              "            iframe.setAttribute('width', '100%');\n",
              "            iframe.setAttribute('height', '800');\n",
              "            iframe.setAttribute('frameborder', 0);\n",
              "            document.body.appendChild(iframe);\n",
              "        })();\n",
              "    "
            ]
          },
          "metadata": {}
        }
      ]
    },
    {
      "cell_type": "code",
      "source": [
        "loss_list"
      ],
      "metadata": {
        "id": "eGpe3-71FF7e",
        "colab": {
          "base_uri": "https://localhost:8080/"
        },
        "outputId": "bb45d972-790b-4869-e61d-5cb32dc5fdec"
      },
      "execution_count": 195,
      "outputs": [
        {
          "output_type": "execute_result",
          "data": {
            "text/plain": [
              "[nan,\n",
              " nan,\n",
              " nan,\n",
              " inf,\n",
              " inf,\n",
              " inf,\n",
              " inf,\n",
              " inf,\n",
              " inf,\n",
              " inf,\n",
              " inf,\n",
              " inf,\n",
              " inf,\n",
              " inf,\n",
              " inf,\n",
              " inf,\n",
              " inf,\n",
              " inf,\n",
              " inf,\n",
              " inf,\n",
              " inf,\n",
              " -385093.1927083333,\n",
              " -407433.7986111111,\n",
              " -429351.0017361111,\n",
              " -450888.609375,\n",
              " -472085.5572916667,\n",
              " -492974.2916666667,\n",
              " -513582.82465277775,\n",
              " -533914.4479166666,\n",
              " -553957.0381944445,\n",
              " -573711.1527777778,\n",
              " -593215.2569444445,\n",
              " -612466.2395833334,\n",
              " -631461.8402777778,\n",
              " -650215.9270833334,\n",
              " -668756.2361111111,\n",
              " -687135.6180555555,\n",
              " -705483.0451388889,\n",
              " -724235.5243055555,\n",
              " -743501.3958333334,\n",
              " -763064.2152777778,\n",
              " -782461.6701388889,\n",
              " -801564.5243055555,\n",
              " -820360.8020833334,\n",
              " -838851.8125,\n",
              " -857055.3958333334,\n",
              " -874981.9236111111,\n",
              " -892647.96875,\n",
              " -910077.3229166666,\n",
              " -927295.3090277778]"
            ]
          },
          "metadata": {},
          "execution_count": 195
        }
      ]
    },
    {
      "cell_type": "code",
      "source": [
        "plt.plot(loss_list[9:])"
      ],
      "metadata": {
        "id": "qjNEDthXFK7j",
        "colab": {
          "base_uri": "https://localhost:8080/",
          "height": 285
        },
        "outputId": "9ec70016-0e0e-414b-b2fa-3c3b3e3cf4ab"
      },
      "execution_count": 196,
      "outputs": [
        {
          "output_type": "execute_result",
          "data": {
            "text/plain": [
              "[<matplotlib.lines.Line2D at 0x7f2984d7b1c0>]"
            ]
          },
          "metadata": {},
          "execution_count": 196
        },
        {
          "output_type": "display_data",
          "data": {
            "text/plain": [
              "<Figure size 432x288 with 1 Axes>"
            ],
            "image/png": "[encoded data removed]"
          },
          "metadata": {}
        }
      ]
    },
    {
      "cell_type": "code",
      "source": [
        "@torch.no_grad()\n",
        "def drawEval(model, dataset):\n",
        "  model = model.to('cpu')\n",
        "  data = dataset[0]\n",
        "  image = torch.tensor(data[0], dtype=torch.float32)\n",
        "  print(image.shape, image.dtype)\n",
        "  print(len(data[1]))\n",
        "  out, CMi, Yi, Yhati = cgdrcn(torch.stack([image]))\n",
        "\n",
        "  plt.imshow( np.asarray(np.transpose(data[0], (1,2,0)), dtype=np.int8) )\n",
        "\n",
        "  sns.heatmap(out[0].numpy()[0], cmap=\"Reds\")\n",
        "  # sns.heatmap(out[1].detach().numpy()[0], cmap=\"Reds\")\n",
        "  \n",
        "  sns.heatmap(data[1][0], cmap=\"Reds\")"
      ],
      "metadata": {
        "id": "8xDY05HKFOpv"
      },
      "execution_count": 201,
      "outputs": []
    },
    {
      "cell_type": "code",
      "source": [
        "drawEval(cgdrcn, train_set)"
      ],
      "metadata": {
        "id": "ztf7zXD6FufA",
        "colab": {
          "base_uri": "https://localhost:8080/",
          "height": 316
        },
        "outputId": "5d0d1093-1ffb-4139-cb8d-fa56f0c42396"
      },
      "execution_count": 202,
      "outputs": [
        {
          "output_type": "stream",
          "name": "stdout",
          "text": [
            "torch.Size([3, 256, 256]) torch.float32\n",
            "1\n"
          ]
        },
        {
          "output_type": "display_data",
          "data": {
            "text/plain": [
              "<Figure size 432x288 with 3 Axes>"
            ],
            "image/png": "[encoded data removed]"
          },
          "metadata": {}
        }
      ]
    },
    {
      "cell_type": "code",
      "source": [
        "model = cgdrcn.to('cpu')"
      ],
      "metadata": {
        "id": "QVpsElPzFw3w"
      },
      "execution_count": 203,
      "outputs": []
    },
    {
      "cell_type": "code",
      "source": [
        "data = train_set[123]\n",
        "image = torch.tensor(data[0], dtype=torch.float32)\n",
        "print(image.shape, image.dtype)\n",
        "print(data[1].sum())\n",
        "print(image.shape)\n",
        "out, CMi, Yi, Yhati = cgdrcn(torch.stack([image]))\n",
        "\n",
        "plt.imshow( np.transpose(np.asarray(data[0], dtype=float), (1,2,0)))\n",
        "\n",
        "\n",
        "# sns.heatmap(out[1].detach().numpy()[0], cmap=\"Reds\")"
      ],
      "metadata": {
        "id": "dF-PVtV7F1HL",
        "colab": {
          "base_uri": "https://localhost:8080/",
          "height": 340
        },
        "outputId": "216f3ee7-7c89-4f98-e986-4f5d2b25266f"
      },
      "execution_count": 204,
      "outputs": [
        {
          "output_type": "stream",
          "name": "stdout",
          "text": [
            "torch.Size([3, 256, 256]) torch.float32\n",
            "tensor(144.4402)\n",
            "torch.Size([3, 256, 256])\n"
          ]
        },
        {
          "output_type": "execute_result",
          "data": {
            "text/plain": [
              "<matplotlib.image.AxesImage at 0x7f2984ea6df0>"
            ]
          },
          "metadata": {},
          "execution_count": 204
        },
        {
          "output_type": "display_data",
          "data": {
            "text/plain": [
              "<Figure size 432x288 with 1 Axes>"
            ],
            "image/png": "[encoded data removed]"
          },
          "metadata": {}
        }
      ]
    },
    {
      "cell_type": "code",
      "source": [
        "# Predicted count\n",
        "torch.sum(out[0])"
      ],
      "metadata": {
        "id": "Hsdp3QLbF5eo",
        "colab": {
          "base_uri": "https://localhost:8080/"
        },
        "outputId": "c00336ae-c7c7-4720-ee5b-2f7709318d84"
      },
      "execution_count": 206,
      "outputs": [
        {
          "output_type": "execute_result",
          "data": {
            "text/plain": [
              "tensor(3.5403e+22, grad_fn=<SumBackward0>)"
            ]
          },
          "metadata": {},
          "execution_count": 206
        }
      ]
    },
    {
      "cell_type": "code",
      "source": [
        "# GT\n",
        "data[2].sum()"
      ],
      "metadata": {
        "id": "w9SZKZ5rGYCj",
        "colab": {
          "base_uri": "https://localhost:8080/"
        },
        "outputId": "cea53ced-2756-428d-8222-8782e19b3c8a"
      },
      "execution_count": 207,
      "outputs": [
        {
          "output_type": "execute_result",
          "data": {
            "text/plain": [
              "tensor(145.)"
            ]
          },
          "metadata": {},
          "execution_count": 207
        }
      ]
    },
    {
      "cell_type": "code",
      "source": [
        "sns.heatmap(out[0].detach().numpy()[0], cmap=\"Reds\")"
      ],
      "metadata": {
        "id": "Wcsth8d6Gc7c",
        "colab": {
          "base_uri": "https://localhost:8080/",
          "height": 300
        },
        "outputId": "de8363a8-41fb-4063-a1b9-25dd5e31a24a"
      },
      "execution_count": 208,
      "outputs": [
        {
          "output_type": "execute_result",
          "data": {
            "text/plain": [
              "<matplotlib.axes._subplots.AxesSubplot at 0x7f2984e1ce80>"
            ]
          },
          "metadata": {},
          "execution_count": 208
        },
        {
          "output_type": "display_data",
          "data": {
            "text/plain": [
              "<Figure size 432x288 with 2 Axes>"
            ],
            "image/png": "[encoded data removed]"
          },
          "metadata": {}
        }
      ]
    },
    {
      "cell_type": "code",
      "source": [
        "sns.heatmap(data[2][0], cmap=\"Reds\")"
      ],
      "metadata": {
        "id": "pQVik3a6Gtw0",
        "colab": {
          "base_uri": "https://localhost:8080/",
          "height": 293
        },
        "outputId": "6b2d6270-645b-4c0a-b238-eb5058760b80"
      },
      "execution_count": 209,
      "outputs": [
        {
          "output_type": "execute_result",
          "data": {
            "text/plain": [
              "<matplotlib.axes._subplots.AxesSubplot at 0x7f290bf6ab80>"
            ]
          },
          "metadata": {},
          "execution_count": 209
        },
        {
          "output_type": "display_data",
          "data": {
            "text/plain": [
              "<Figure size 432x288 with 2 Axes>"
            ],
            "image/png": "[encoded data removed]"
          },
          "metadata": {}
        }
      ]
    },
    {
      "cell_type": "markdown",
      "source": [
        "### Cleaning"
      ],
      "metadata": {
        "id": "-S7y0HqAUmBF"
      }
    },
    {
      "cell_type": "code",
      "source": [
        "import gc\n",
        "gc.collect()\n",
        "torch.cuda.empty_cache()"
      ],
      "metadata": {
        "id": "Zd-OMVC_Gyux"
      },
      "execution_count": null,
      "outputs": []
    },
    {
      "cell_type": "code",
      "source": [
        "torch.cuda.empty_cache()"
      ],
      "metadata": {
        "id": "leT79Q4uUm0s"
      },
      "execution_count": null,
      "outputs": []
    },
    {
      "cell_type": "code",
      "source": [
        "!nvidia_smi"
      ],
      "metadata": {
        "id": "0tYiRjO3G0RO"
      },
      "execution_count": null,
      "outputs": []
    }
  ]
}